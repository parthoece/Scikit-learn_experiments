{
 "cells": [
  {
   "cell_type": "code",
   "execution_count": 4,
   "id": "1ed77d09",
   "metadata": {},
   "outputs": [],
   "source": [
    "#Implementation of bayes formulae\n",
    "def  drug_user(prob_th=0.5, sensitivity=0.99, specificity=0.99, prevelance=0.01, verbose=True):\n",
    "    p_user = prevelance\n",
    "    p_non_user = 1-prevelance\n",
    "    p_pos_user = sensitivity\n",
    "    p_neg_user = specificity\n",
    "    p_pos_non_user = 1-specificity\n",
    "    num = p_pos_user*p_user\n",
    "    den = p_pos_user*p_user+p_pos_non_user*p_non_user\n",
    "    prob = num/den\n",
    "    if verbose:\n",
    "        if prob > prob_th:\n",
    "            print(\"The test-taker could be an user\")\n",
    "        else:\n",
    "            print(\"The test-taker may not be an user\")\n",
    "    return prob\n"
   ]
  },
  {
   "cell_type": "code",
   "execution_count": 5,
   "id": "afc45b20",
   "metadata": {},
   "outputs": [
    {
     "name": "stdout",
     "output_type": "stream",
     "text": [
      "The test-taker may not be an user\n",
      "0.49717514124293793\n"
     ]
    }
   ],
   "source": [
    "a = drug_user(prob_th=0.7, sensitivity=0.8, specificity=0.9, prevelance=0.11, verbose=True)\n",
    "print(a)"
   ]
  },
  {
   "cell_type": "code",
   "execution_count": 1,
   "id": "58812d80",
   "metadata": {},
   "outputs": [],
   "source": [
    "#Importing necessary libraries\n",
    "import numpy as np\n",
    "import pandas as pd\n",
    "from sklearn.model_selection import train_test_split\n",
    "from sklearn import datasets\n",
    "from sklearn.naive_bayes import GaussianNB"
   ]
  },
  {
   "cell_type": "code",
   "execution_count": 2,
   "id": "a1831628",
   "metadata": {},
   "outputs": [],
   "source": [
    "#define function for model accuracy\n",
    "def accuracy(y_true, y_pred):\n",
    "    accuracy = np.sum(y_pred/len(y_pred))\n",
    "    return accuracy"
   ]
  },
  {
   "cell_type": "code",
   "execution_count": 3,
   "id": "b43d52c7",
   "metadata": {},
   "outputs": [],
   "source": [
    "#Create dataset\n",
    "X,y=datasets.make_classification(n_samples=1000, n_features= 10, n_classes= 2, random_state= 123)\n",
    "\n",
    "\n",
    "X_train, X_test, y_train, y_test= train_test_split(X, y, test_size= 0.2, random_state = 123)\n",
    "\n"
   ]
  },
  {
   "cell_type": "code",
   "execution_count": 4,
   "id": "d91d860d",
   "metadata": {},
   "outputs": [
    {
     "name": "stdout",
     "output_type": "stream",
     "text": [
      "Naive Bays classification accuracy 0.48000000000000004\n"
     ]
    }
   ],
   "source": [
    "#Create naive bayes model\n",
    "nb=GaussianNB()\n",
    "\n",
    "nb.fit(X_train, y_train)\n",
    "predict= nb.predict(X_test)\n",
    "print('Naive Bays classification accuracy', accuracy(y_test,predict))"
   ]
  },
  {
   "cell_type": "code",
   "execution_count": 5,
   "id": "58109088",
   "metadata": {},
   "outputs": [
    {
     "data": {
      "text/plain": [
       "array([0.928, 0.944, 0.968, 0.976, 0.944, 0.952, 0.968, 0.976])"
      ]
     },
     "execution_count": 5,
     "metadata": {},
     "output_type": "execute_result"
    }
   ],
   "source": [
    "#Improving accuracy using cross validation\n",
    "from sklearn.model_selection import cross_val_score\n",
    "nb=GaussianNB()\n",
    "scores = cross_val_score(nb, X, y, cv=8)\n",
    "scores"
   ]
  },
  {
   "cell_type": "code",
   "execution_count": 6,
   "id": "498ec38c",
   "metadata": {},
   "outputs": [
    {
     "name": "stdout",
     "output_type": "stream",
     "text": [
      "Naive Bays classification accuracy 0.957\n"
     ]
    }
   ],
   "source": [
    "print('Naive Bays classification accuracy', accuracy(y_test,scores))"
   ]
  }
 ],
 "metadata": {
  "kernelspec": {
   "display_name": "Python 3 (ipykernel)",
   "language": "python",
   "name": "python3"
  },
  "language_info": {
   "codemirror_mode": {
    "name": "ipython",
    "version": 3
   },
   "file_extension": ".py",
   "mimetype": "text/x-python",
   "name": "python",
   "nbconvert_exporter": "python",
   "pygments_lexer": "ipython3",
   "version": "3.8.5"
  }
 },
 "nbformat": 4,
 "nbformat_minor": 5
}
