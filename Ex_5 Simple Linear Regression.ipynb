{
 "cells": [
  {
   "cell_type": "markdown",
   "id": "3948607d",
   "metadata": {},
   "source": [
    "# Exp 5: Linear Regression"
   ]
  },
  {
   "cell_type": "code",
   "execution_count": 4,
   "id": "515ae58f",
   "metadata": {},
   "outputs": [],
   "source": [
    "import numpy as np\n",
    "import pandas as pd\n",
    "import matplotlib.pyplot as plt"
   ]
  },
  {
   "cell_type": "code",
   "execution_count": 5,
   "id": "b3cbb148",
   "metadata": {
    "scrolled": true
   },
   "outputs": [
    {
     "data": {
      "text/html": [
       "<div>\n",
       "<style scoped>\n",
       "    .dataframe tbody tr th:only-of-type {\n",
       "        vertical-align: middle;\n",
       "    }\n",
       "\n",
       "    .dataframe tbody tr th {\n",
       "        vertical-align: top;\n",
       "    }\n",
       "\n",
       "    .dataframe thead th {\n",
       "        text-align: right;\n",
       "    }\n",
       "</style>\n",
       "<table border=\"1\" class=\"dataframe\">\n",
       "  <thead>\n",
       "    <tr style=\"text-align: right;\">\n",
       "      <th></th>\n",
       "      <th>YearsExperience</th>\n",
       "      <th>Salary</th>\n",
       "    </tr>\n",
       "  </thead>\n",
       "  <tbody>\n",
       "    <tr>\n",
       "      <th>0</th>\n",
       "      <td>1.1</td>\n",
       "      <td>39343.0</td>\n",
       "    </tr>\n",
       "    <tr>\n",
       "      <th>1</th>\n",
       "      <td>1.3</td>\n",
       "      <td>46205.0</td>\n",
       "    </tr>\n",
       "    <tr>\n",
       "      <th>2</th>\n",
       "      <td>1.5</td>\n",
       "      <td>37731.0</td>\n",
       "    </tr>\n",
       "    <tr>\n",
       "      <th>3</th>\n",
       "      <td>2.0</td>\n",
       "      <td>43525.0</td>\n",
       "    </tr>\n",
       "    <tr>\n",
       "      <th>4</th>\n",
       "      <td>2.2</td>\n",
       "      <td>39891.0</td>\n",
       "    </tr>\n",
       "  </tbody>\n",
       "</table>\n",
       "</div>"
      ],
      "text/plain": [
       "   YearsExperience   Salary\n",
       "0              1.1  39343.0\n",
       "1              1.3  46205.0\n",
       "2              1.5  37731.0\n",
       "3              2.0  43525.0\n",
       "4              2.2  39891.0"
      ]
     },
     "execution_count": 5,
     "metadata": {},
     "output_type": "execute_result"
    }
   ],
   "source": [
    "dataset = pd.read_csv(\"/home/parth/Downloads/FML Lab/Dataset/Salary_Data.csv\")\n",
    "dataset.head()"
   ]
  },
  {
   "cell_type": "code",
   "execution_count": 6,
   "id": "c5962d0b",
   "metadata": {},
   "outputs": [
    {
     "name": "stdout",
     "output_type": "stream",
     "text": [
      "Shape: (30, 2)\n"
     ]
    }
   ],
   "source": [
    "print(\"Shape:\", dataset.shape)"
   ]
  },
  {
   "cell_type": "code",
   "execution_count": 7,
   "id": "2674faa1",
   "metadata": {
    "scrolled": true
   },
   "outputs": [
    {
     "data": {
      "text/plain": [
       "<AxesSubplot:xlabel='YearsExperience', ylabel='Salary'>"
      ]
     },
     "execution_count": 7,
     "metadata": {},
     "output_type": "execute_result"
    },
    {
     "data": {
      "image/png": "[encoded data removed]",
      "text/plain": [
       "<Figure size 432x288 with 1 Axes>"
      ]
     },
     "metadata": {
      "needs_background": "light"
     },
     "output_type": "display_data"
    }
   ],
   "source": [
    "# visualise yearsexperience-Salary relationship\n",
    "import seaborn as sns\n",
    "sns.regplot(x=\"YearsExperience\", y=\"Salary\", data=dataset, fit_reg=False)"
   ]
  },
  {
   "cell_type": "code",
   "execution_count": 8,
   "id": "20ed42a7",
   "metadata": {},
   "outputs": [],
   "source": [
    "X = dataset.iloc[:,:-1].values    #independent variable array\n",
    "Y = dataset.iloc[:,1].values      #dependent variable vector"
   ]
  },
  {
   "cell_type": "code",
   "execution_count": 9,
   "id": "ac0f956e",
   "metadata": {},
   "outputs": [
    {
     "name": "stdout",
     "output_type": "stream",
     "text": [
      "[[ 1.1]\n",
      " [ 1.3]\n",
      " [ 1.5]\n",
      " [ 2. ]\n",
      " [ 2.2]\n",
      " [ 2.9]\n",
      " [ 3. ]\n",
      " [ 3.2]\n",
      " [ 3.2]\n",
      " [ 3.7]\n",
      " [ 3.9]\n",
      " [ 4. ]\n",
      " [ 4. ]\n",
      " [ 4.1]\n",
      " [ 4.5]\n",
      " [ 4.9]\n",
      " [ 5.1]\n",
      " [ 5.3]\n",
      " [ 5.9]\n",
      " [ 6. ]\n",
      " [ 6.8]\n",
      " [ 7.1]\n",
      " [ 7.9]\n",
      " [ 8.2]\n",
      " [ 8.7]\n",
      " [ 9. ]\n",
      " [ 9.5]\n",
      " [ 9.6]\n",
      " [10.3]\n",
      " [10.5]]\n"
     ]
    }
   ],
   "source": [
    "print(X)"
   ]
  },
  {
   "cell_type": "code",
   "execution_count": 10,
   "id": "d34d763a",
   "metadata": {},
   "outputs": [],
   "source": [
    "Y=Y.reshape(-1,1)"
   ]
  },
  {
   "cell_type": "code",
   "execution_count": 11,
   "id": "f81ea5fc",
   "metadata": {},
   "outputs": [],
   "source": [
    "from sklearn.model_selection import train_test_split\n",
    "X_train,X_test,Y_train,Y_test=train_test_split(X,Y,test_size=1/3,random_state=5)"
   ]
  },
  {
   "cell_type": "code",
   "execution_count": 12,
   "id": "56bb2b1b",
   "metadata": {},
   "outputs": [
    {
     "data": {
      "text/plain": [
       "LinearRegression()"
      ]
     },
     "execution_count": 12,
     "metadata": {},
     "output_type": "execute_result"
    }
   ],
   "source": [
    "from sklearn.linear_model import LinearRegression\n",
    "regressor = LinearRegression()\n",
    "regressor.fit(X_train,Y_train)"
   ]
  },
  {
   "cell_type": "code",
   "execution_count": 13,
   "id": "680662bb",
   "metadata": {},
   "outputs": [
    {
     "name": "stdout",
     "output_type": "stream",
     "text": [
      "[[ 64187.4250843 ]\n",
      " [124072.91801685]\n",
      " [102882.66667149]\n",
      " [110253.18887857]\n",
      " [ 81692.41532612]\n",
      " [ 63266.10980841]\n",
      " [ 41154.54318717]\n",
      " [ 65108.74036019]\n",
      " [114859.765258  ]\n",
      " [ 92748.19863675]]\n"
     ]
    }
   ],
   "source": [
    "# predicting the test set results\n",
    "Y_pred = regressor.predict(X_test)\n",
    "print(Y_pred)"
   ]
  },
  {
   "cell_type": "code",
   "execution_count": 14,
   "id": "85b115d5",
   "metadata": {},
   "outputs": [
    {
     "name": "stdout",
     "output_type": "stream",
     "text": [
      "[[ 55794.]\n",
      " [121872.]\n",
      " [113812.]\n",
      " [105582.]\n",
      " [ 81363.]\n",
      " [ 63218.]\n",
      " [ 37731.]\n",
      " [ 57081.]\n",
      " [116969.]\n",
      " [ 98273.]]\n"
     ]
    }
   ],
   "source": [
    "print(Y_test)"
   ]
  },
  {
   "cell_type": "code",
   "execution_count": 15,
   "id": "ecffaec3",
   "metadata": {},
   "outputs": [
    {
     "name": "stdout",
     "output_type": "stream",
     "text": [
      "R Squared: 95.6244\n",
      "Mean Absolute Error:  4565.771009537716\n",
      "Mean Square Error:  32781235.08636551\n",
      "Root Mean Square Error:  5725.489942910171\n"
     ]
    }
   ],
   "source": [
    "#Performance matrix\n",
    "from sklearn import metrics\n",
    "meanAbErr= metrics.mean_absolute_error(Y_test,Y_pred)\n",
    "meanSqErr=metrics.mean_squared_error(Y_test,Y_pred)\n",
    "rootMeanSqErr = np.sqrt(metrics.mean_squared_error(Y_test,Y_pred))\n",
    "print('R Squared: {:.4f}'.format(regressor.score(X,Y)*100))\n",
    "print('Mean Absolute Error: ', meanAbErr)\n",
    "print('Mean Square Error: ', meanSqErr)\n",
    "print('Root Mean Square Error: ', rootMeanSqErr)"
   ]
  },
  {
   "cell_type": "code",
   "execution_count": 16,
   "id": "fdd00532",
   "metadata": {},
   "outputs": [
    {
     "data": {
      "image/png": "[encoded data removed]",
      "text/plain": [
       "<Figure size 432x288 with 1 Axes>"
      ]
     },
     "metadata": {
      "needs_background": "light"
     },
     "output_type": "display_data"
    }
   ],
   "source": [
    "plt.scatter(X_train, Y_train, color='red') \n",
    "plt.plot(X_train, regressor.predict(X_train), color='blue') \n",
    "plt.title(\"Salary vs Experience (Training set)\") \n",
    "plt.xlabel(\"Years of experience\") \n",
    "plt.ylabel(\"Salaries\")\n",
    "plt.show() "
   ]
  },
  {
   "cell_type": "markdown",
   "id": "8ab04d43",
   "metadata": {},
   "source": [
    "# Improving model using cross validation"
   ]
  },
  {
   "cell_type": "code",
   "execution_count": 17,
   "id": "6bdf11bf",
   "metadata": {},
   "outputs": [
    {
     "name": "stdout",
     "output_type": "stream",
     "text": [
      "21\n",
      "9\n"
     ]
    }
   ],
   "source": [
    "# split into train and test\n",
    "df_train, df_test = train_test_split(dataset, \n",
    "                                     train_size = 0.7, \n",
    "                                     test_size = 0.3, \n",
    "                                     random_state = 10)\n",
    "print(len(df_train))\n",
    "print(len(df_test))"
   ]
  },
  {
   "cell_type": "code",
   "execution_count": 18,
   "id": "16b077e2",
   "metadata": {},
   "outputs": [],
   "source": [
    "# split into X and y for both train and test sets\n",
    "# reshaping is required since sklearn requires the data to be in shape\n",
    "# (n, 1), not as a series of shape (n, )\n",
    "X_train = df_train['YearsExperience']\n",
    "X_train = X_train.values.reshape(-1, 1)\n",
    "y_train = df_train['Salary']\n",
    "\n",
    "X_test = df_test['YearsExperience']\n",
    "X_test = X_test.values.reshape(-1, 1)\n",
    "y_test = df_test['Salary']"
   ]
  },
  {
   "cell_type": "code",
   "execution_count": 19,
   "id": "b3cf6d96",
   "metadata": {},
   "outputs": [
    {
     "data": {
      "text/plain": [
       "array([0.78267432, 0.91954995, 0.99371226, 0.80190335, 0.69985126])"
      ]
     },
     "execution_count": 19,
     "metadata": {},
     "output_type": "execute_result"
    }
   ],
   "source": [
    "from sklearn.model_selection import cross_val_score\n",
    "regressor = LinearRegression()\n",
    "\n",
    "scores = cross_val_score(regressor, X_train, y_train, scoring='r2', cv=5)\n",
    "scores"
   ]
  },
  {
   "cell_type": "code",
   "execution_count": 20,
   "id": "0b2c36f6",
   "metadata": {},
   "outputs": [
    {
     "data": {
      "text/plain": [
       "array([0.94349865, 0.85428806, 0.95087297, 0.91044645, 0.95614618])"
      ]
     },
     "execution_count": 20,
     "metadata": {},
     "output_type": "execute_result"
    }
   ],
   "source": [
    "# Using Kfold CV\n",
    "from sklearn.model_selection import KFold\n",
    "folds = KFold(n_splits = 5, shuffle = True, random_state = 100)\n",
    "scores = cross_val_score(regressor, X_train, y_train, scoring='r2', cv=folds)\n",
    "scores  "
   ]
  },
  {
   "cell_type": "markdown",
   "id": "aacf53f5",
   "metadata": {},
   "source": [
    "##### Note: A common use of cross-validation is for tuning hyperparameters of a model. The most common technique is what is called grid search cross-validation."
   ]
  },
  {
   "cell_type": "markdown",
   "id": "a302ca9e",
   "metadata": {},
   "source": [
    "# Rescaling the data"
   ]
  },
  {
   "cell_type": "code",
   "execution_count": 21,
   "id": "44429e2d",
   "metadata": {},
   "outputs": [],
   "source": [
    "from sklearn.preprocessing import MinMaxScaler\n",
    "scaler = MinMaxScaler(feature_range=(0, 1))"
   ]
  },
  {
   "cell_type": "code",
   "execution_count": 22,
   "id": "8f00ca66",
   "metadata": {},
   "outputs": [
    {
     "name": "stdout",
     "output_type": "stream",
     "text": [
      "[[0.        ]\n",
      " [0.0212766 ]\n",
      " [0.04255319]\n",
      " [0.09574468]\n",
      " [0.11702128]\n",
      " [0.19148936]\n",
      " [0.20212766]\n",
      " [0.22340426]\n",
      " [0.22340426]\n",
      " [0.27659574]\n",
      " [0.29787234]\n",
      " [0.30851064]\n",
      " [0.30851064]\n",
      " [0.31914894]\n",
      " [0.36170213]\n",
      " [0.40425532]\n",
      " [0.42553191]\n",
      " [0.44680851]\n",
      " [0.5106383 ]\n",
      " [0.5212766 ]\n",
      " [0.60638298]\n",
      " [0.63829787]\n",
      " [0.72340426]\n",
      " [0.75531915]\n",
      " [0.80851064]\n",
      " [0.84042553]\n",
      " [0.89361702]\n",
      " [0.90425532]\n",
      " [0.9787234 ]\n",
      " [1.        ]]\n"
     ]
    }
   ],
   "source": [
    "rescaledX = scaler.fit_transform(X)\n",
    "print(rescaledX)"
   ]
  },
  {
   "cell_type": "code",
   "execution_count": 23,
   "id": "e8b67bdc",
   "metadata": {
    "scrolled": true
   },
   "outputs": [
    {
     "name": "stdout",
     "output_type": "stream",
     "text": [
      "[[0.01904087]\n",
      " [0.1000945 ]\n",
      " [0.        ]\n",
      " [0.06843846]\n",
      " [0.02551382]\n",
      " [0.22337586]\n",
      " [0.26481219]\n",
      " [0.19742499]\n",
      " [0.31554453]\n",
      " [0.229837  ]\n",
      " [0.30105126]\n",
      " [0.21335932]\n",
      " [0.22709662]\n",
      " [0.2285613 ]\n",
      " [0.27616348]\n",
      " [0.35680369]\n",
      " [0.33425467]\n",
      " [0.53575478]\n",
      " [0.51537916]\n",
      " [0.66393811]\n",
      " [0.63792818]\n",
      " [0.7151193 ]\n",
      " [0.75089771]\n",
      " [0.89866525]\n",
      " [0.84691708]\n",
      " [0.80145287]\n",
      " [0.93595559]\n",
      " [0.88476258]\n",
      " [1.        ]\n",
      " [0.9938696 ]]\n"
     ]
    }
   ],
   "source": [
    "rescaledY = scaler.fit_transform(Y)\n",
    "print(rescaledY)"
   ]
  },
  {
   "cell_type": "code",
   "execution_count": 24,
   "id": "8e8daf3f",
   "metadata": {},
   "outputs": [],
   "source": [
    "from sklearn.model_selection import train_test_split\n",
    "X_train,X_test,Y_train,Y_test=train_test_split(rescaledX,rescaledY,test_size=1/3,random_state=5)"
   ]
  },
  {
   "cell_type": "code",
   "execution_count": 25,
   "id": "e4119321",
   "metadata": {},
   "outputs": [
    {
     "data": {
      "text/plain": [
       "LinearRegression()"
      ]
     },
     "execution_count": 25,
     "metadata": {},
     "output_type": "execute_result"
    }
   ],
   "source": [
    "from sklearn.linear_model import LinearRegression\n",
    "regressor = LinearRegression()\n",
    "regressor.fit(X_train,Y_train)"
   ]
  },
  {
   "cell_type": "code",
   "execution_count": 26,
   "id": "6a90ad52",
   "metadata": {
    "scrolled": true
   },
   "outputs": [
    {
     "name": "stdout",
     "output_type": "stream",
     "text": [
      "[[0.31250207]\n",
      " [1.01986674]\n",
      " [0.76956847]\n",
      " [0.85662874]\n",
      " [0.5192702 ]\n",
      " [0.30161953]\n",
      " [0.04043873]\n",
      " [0.3233846 ]\n",
      " [0.9110414 ]\n",
      " [0.6498606 ]]\n"
     ]
    }
   ],
   "source": [
    "# predicting the test set results\n",
    "Y_pred = regressor.predict(X_test)\n",
    "print(Y_pred)"
   ]
  },
  {
   "cell_type": "code",
   "execution_count": 27,
   "id": "825437d5",
   "metadata": {},
   "outputs": [
    {
     "name": "stdout",
     "output_type": "stream",
     "text": [
      "[[0.21335932]\n",
      " [0.9938696 ]\n",
      " [0.89866525]\n",
      " [0.80145287]\n",
      " [0.51537916]\n",
      " [0.30105126]\n",
      " [0.        ]\n",
      " [0.2285613 ]\n",
      " [0.93595559]\n",
      " [0.7151193 ]]\n"
     ]
    }
   ],
   "source": [
    "print(Y_test)"
   ]
  },
  {
   "cell_type": "code",
   "execution_count": 28,
   "id": "9a0f7a07",
   "metadata": {},
   "outputs": [
    {
     "name": "stdout",
     "output_type": "stream",
     "text": [
      "R Squared: 95.6244\n",
      "Mean Absolute Error:  0.05393067575641055\n",
      "Mean Square Error:  0.0045737116817299835\n",
      "Root Mean Square Error:  0.06762922209910434\n"
     ]
    }
   ],
   "source": [
    "#Performance matrix\n",
    "from sklearn import metrics\n",
    "meanAbErr= metrics.mean_absolute_error(Y_test,Y_pred)\n",
    "meanSqErr=metrics.mean_squared_error(Y_test,Y_pred)\n",
    "rootMeanSqErr = np.sqrt(metrics.mean_squared_error(Y_test,Y_pred))\n",
    "print('R Squared: {:.4f}'.format(regressor.score(rescaledX,rescaledY)*100))\n",
    "print('Mean Absolute Error: ', meanAbErr)\n",
    "print('Mean Square Error: ', meanSqErr)\n",
    "print('Root Mean Square Error: ', rootMeanSqErr)"
   ]
  },
  {
   "cell_type": "code",
   "execution_count": 29,
   "id": "d62ccde9",
   "metadata": {},
   "outputs": [
    {
     "data": {
      "image/png": "[encoded data removed]",
      "text/plain": [
       "<Figure size 432x288 with 1 Axes>"
      ]
     },
     "metadata": {
      "needs_background": "light"
     },
     "output_type": "display_data"
    }
   ],
   "source": [
    "plt.scatter(X_train, Y_train, color='red') \n",
    "plt.plot(X_train, regressor.predict(X_train), color='blue') \n",
    "plt.title(\"Salary vs Experience (Training set)\") \n",
    "plt.xlabel(\"Years of experience\") \n",
    "plt.ylabel(\"Salaries\")\n",
    "plt.show() "
   ]
  },
  {
   "cell_type": "markdown",
   "id": "bb7996fe",
   "metadata": {},
   "source": [
    "# Standardisation of data"
   ]
  },
  {
   "cell_type": "code",
   "execution_count": 30,
   "id": "b18bcb78",
   "metadata": {},
   "outputs": [],
   "source": [
    "from sklearn.preprocessing import StandardScaler"
   ]
  },
  {
   "cell_type": "code",
   "execution_count": 31,
   "id": "d0e3ef0f",
   "metadata": {},
   "outputs": [
    {
     "name": "stdout",
     "output_type": "stream",
     "text": [
      "[[-1.51005294]\n",
      " [-1.43837321]\n",
      " [-1.36669348]\n",
      " [-1.18749416]\n",
      " [-1.11581443]\n",
      " [-0.86493538]\n",
      " [-0.82909552]\n",
      " [-0.75741579]\n",
      " [-0.75741579]\n",
      " [-0.57821647]\n",
      " [-0.50653674]\n",
      " [-0.47069688]\n",
      " [-0.47069688]\n",
      " [-0.43485702]\n",
      " [-0.29149756]\n",
      " [-0.1481381 ]\n",
      " [-0.07645838]\n",
      " [-0.00477865]\n",
      " [ 0.21026054]\n",
      " [ 0.2461004 ]\n",
      " [ 0.53281931]\n",
      " [ 0.6403389 ]\n",
      " [ 0.92705781]\n",
      " [ 1.03457741]\n",
      " [ 1.21377673]\n",
      " [ 1.32129632]\n",
      " [ 1.50049564]\n",
      " [ 1.5363355 ]\n",
      " [ 1.78721455]\n",
      " [ 1.85889428]]\n"
     ]
    }
   ],
   "source": [
    "scaler = StandardScaler().fit(X)\n",
    "rescaleX = scaler.transform(X)\n",
    "print(rescaleX)"
   ]
  },
  {
   "cell_type": "code",
   "execution_count": 32,
   "id": "a7a4c021",
   "metadata": {},
   "outputs": [
    {
     "name": "stdout",
     "output_type": "stream",
     "text": [
      "[[-1.36011263]\n",
      " [-1.10552744]\n",
      " [-1.419919  ]\n",
      " [-1.20495739]\n",
      " [-1.33978143]\n",
      " [-0.71830716]\n",
      " [-0.58815781]\n",
      " [-0.79981746]\n",
      " [-0.42881019]\n",
      " [-0.69801306]\n",
      " [-0.47433279]\n",
      " [-0.74976858]\n",
      " [-0.70662043]\n",
      " [-0.70201994]\n",
      " [-0.55250402]\n",
      " [-0.29921736]\n",
      " [-0.37004264]\n",
      " [ 0.26285865]\n",
      " [ 0.19885989]\n",
      " [ 0.66547573]\n",
      " [ 0.58377993]\n",
      " [ 0.82623317]\n",
      " [ 0.93861127]\n",
      " [ 1.40274136]\n",
      " [ 1.24020308]\n",
      " [ 1.09740238]\n",
      " [ 1.51986835]\n",
      " [ 1.3590738 ]\n",
      " [ 1.72102849]\n",
      " [ 1.70177321]]\n"
     ]
    }
   ],
   "source": [
    "scaler = StandardScaler().fit(Y)\n",
    "rescaleY = scaler.transform(Y)\n",
    "print(rescaleY)"
   ]
  },
  {
   "cell_type": "code",
   "execution_count": 33,
   "id": "f2d78ec2",
   "metadata": {},
   "outputs": [],
   "source": [
    "from sklearn.model_selection import train_test_split\n",
    "X_train,X_test,Y_train,Y_test=train_test_split(rescaleX,rescaleY,test_size=1/3,random_state=5)"
   ]
  },
  {
   "cell_type": "code",
   "execution_count": 34,
   "id": "2b6f58ed",
   "metadata": {},
   "outputs": [
    {
     "name": "stdout",
     "output_type": "stream",
     "text": [
      "[[-0.4845946 ]\n",
      " [ 1.89847963]\n",
      " [ 1.05523798]\n",
      " [ 1.34853942]\n",
      " [ 0.21199633]\n",
      " [-0.52125728]\n",
      " [-1.40116162]\n",
      " [-0.44793192]\n",
      " [ 1.53185282]\n",
      " [ 0.65194849]]\n"
     ]
    }
   ],
   "source": [
    "# predicting the test set results\n",
    "Y_pred = regressor.predict(X_test)\n",
    "print(Y_pred)"
   ]
  },
  {
   "cell_type": "code",
   "execution_count": 35,
   "id": "236cf603",
   "metadata": {},
   "outputs": [
    {
     "name": "stdout",
     "output_type": "stream",
     "text": [
      "[[-0.74976858]\n",
      " [ 1.70177321]\n",
      " [ 1.40274136]\n",
      " [ 1.09740238]\n",
      " [ 0.19885989]\n",
      " [-0.47433279]\n",
      " [-1.419919  ]\n",
      " [-0.70201994]\n",
      " [ 1.51986835]\n",
      " [ 0.82623317]]\n"
     ]
    }
   ],
   "source": [
    "print(Y_test)"
   ]
  },
  {
   "cell_type": "code",
   "execution_count": 36,
   "id": "af98893f",
   "metadata": {},
   "outputs": [
    {
     "name": "stdout",
     "output_type": "stream",
     "text": [
      "R Squared: 95.4948\n",
      "Mean Absolute Error:  0.15796962943264153\n",
      "Mean Square Error:  0.03906448764564778\n",
      "Root Mean Square Error:  0.19764738208650218\n"
     ]
    }
   ],
   "source": [
    "#Performance matrix\n",
    "from sklearn import metrics\n",
    "meanAbErr= metrics.mean_absolute_error(Y_test,Y_pred)\n",
    "meanSqErr=metrics.mean_squared_error(Y_test,Y_pred)\n",
    "rootMeanSqErr = np.sqrt(metrics.mean_squared_error(Y_test,Y_pred))\n",
    "print('R Squared: {:.4f}'.format(regressor.score(rescaleX,rescaleY)*100))\n",
    "print('Mean Absolute Error: ', meanAbErr)\n",
    "print('Mean Square Error: ', meanSqErr)\n",
    "print('Root Mean Square Error: ', rootMeanSqErr)"
   ]
  },
  {
   "cell_type": "code",
   "execution_count": 37,
   "id": "8fec30fa",
   "metadata": {},
   "outputs": [
    {
     "data": {
      "image/png": "[encoded data removed]",
      "text/plain": [
       "<Figure size 432x288 with 1 Axes>"
      ]
     },
     "metadata": {
      "needs_background": "light"
     },
     "output_type": "display_data"
    }
   ],
   "source": [
    "plt.scatter(X_train, Y_train, color='red') \n",
    "plt.plot(X_train, regressor.predict(X_train), color='blue') \n",
    "plt.title(\"Salary vs Experience (Training set)\") \n",
    "plt.xlabel(\"Years of experience\") \n",
    "plt.ylabel(\"Salaries\")\n",
    "plt.show() "
   ]
  },
  {
   "cell_type": "markdown",
   "id": "6e198c30",
   "metadata": {},
   "source": [
    "# Normalisation of data"
   ]
  },
  {
   "cell_type": "code",
   "execution_count": 38,
   "id": "3ec64713",
   "metadata": {},
   "outputs": [],
   "source": [
    "from sklearn.preprocessing import Normalizer"
   ]
  },
  {
   "cell_type": "code",
   "execution_count": 39,
   "id": "240b009c",
   "metadata": {},
   "outputs": [
    {
     "name": "stdout",
     "output_type": "stream",
     "text": [
      "[[1.]\n",
      " [1.]\n",
      " [1.]\n",
      " [1.]\n",
      " [1.]\n",
      " [1.]\n",
      " [1.]\n",
      " [1.]\n",
      " [1.]\n",
      " [1.]\n",
      " [1.]\n",
      " [1.]\n",
      " [1.]\n",
      " [1.]\n",
      " [1.]\n",
      " [1.]\n",
      " [1.]\n",
      " [1.]\n",
      " [1.]\n",
      " [1.]\n",
      " [1.]\n",
      " [1.]\n",
      " [1.]\n",
      " [1.]\n",
      " [1.]\n",
      " [1.]\n",
      " [1.]\n",
      " [1.]\n",
      " [1.]\n",
      " [1.]]\n"
     ]
    }
   ],
   "source": [
    "normalizer = Normalizer().fit(X)\n",
    "Xnorm= normalizer.transform(X)\n",
    "print(Xnorm)"
   ]
  },
  {
   "cell_type": "code",
   "execution_count": 40,
   "id": "1f86d81c",
   "metadata": {},
   "outputs": [
    {
     "name": "stdout",
     "output_type": "stream",
     "text": [
      "[[1.]\n",
      " [1.]\n",
      " [1.]\n",
      " [1.]\n",
      " [1.]\n",
      " [1.]\n",
      " [1.]\n",
      " [1.]\n",
      " [1.]\n",
      " [1.]\n",
      " [1.]\n",
      " [1.]\n",
      " [1.]\n",
      " [1.]\n",
      " [1.]\n",
      " [1.]\n",
      " [1.]\n",
      " [1.]\n",
      " [1.]\n",
      " [1.]\n",
      " [1.]\n",
      " [1.]\n",
      " [1.]\n",
      " [1.]\n",
      " [1.]\n",
      " [1.]\n",
      " [1.]\n",
      " [1.]\n",
      " [1.]\n",
      " [1.]]\n"
     ]
    }
   ],
   "source": [
    "Y_normalizer = Normalizer().fit(Y)\n",
    "Ynorm= Y_normalizer.transform(Y)\n",
    "print(Ynorm)"
   ]
  },
  {
   "cell_type": "code",
   "execution_count": 41,
   "id": "4f7a4c87",
   "metadata": {},
   "outputs": [],
   "source": [
    "from sklearn.model_selection import train_test_split\n",
    "X_train,X_test,Y_train,Y_test=train_test_split(Xnorm,Ynorm,test_size=1/3,random_state=5)"
   ]
  },
  {
   "cell_type": "code",
   "execution_count": 42,
   "id": "369edd06",
   "metadata": {},
   "outputs": [
    {
     "name": "stdout",
     "output_type": "stream",
     "text": [
      "(20, 1)\n",
      "(20, 1)\n"
     ]
    }
   ],
   "source": [
    "print(X_train.shape)\n",
    "print(Y_train.shape)"
   ]
  },
  {
   "cell_type": "code",
   "execution_count": 43,
   "id": "87b67561",
   "metadata": {},
   "outputs": [
    {
     "data": {
      "text/plain": [
       "LinearRegression()"
      ]
     },
     "execution_count": 43,
     "metadata": {},
     "output_type": "execute_result"
    }
   ],
   "source": [
    "from sklearn.linear_model import LinearRegression\n",
    "regressor = LinearRegression()\n",
    "regressor.fit(X_train,Y_train)"
   ]
  },
  {
   "cell_type": "code",
   "execution_count": 44,
   "id": "e0ded8c9",
   "metadata": {},
   "outputs": [
    {
     "name": "stdout",
     "output_type": "stream",
     "text": [
      "[[1.]\n",
      " [1.]\n",
      " [1.]\n",
      " [1.]\n",
      " [1.]\n",
      " [1.]\n",
      " [1.]\n",
      " [1.]\n",
      " [1.]\n",
      " [1.]]\n"
     ]
    }
   ],
   "source": [
    "# predicting the test set results\n",
    "Y_pred = regressor.predict(X_test)\n",
    "print(Y_pred)"
   ]
  },
  {
   "cell_type": "code",
   "execution_count": 45,
   "id": "5ae9b771",
   "metadata": {},
   "outputs": [
    {
     "name": "stdout",
     "output_type": "stream",
     "text": [
      "[[1.]\n",
      " [1.]\n",
      " [1.]\n",
      " [1.]\n",
      " [1.]\n",
      " [1.]\n",
      " [1.]\n",
      " [1.]\n",
      " [1.]\n",
      " [1.]]\n"
     ]
    }
   ],
   "source": [
    "print(Y_test)"
   ]
  },
  {
   "cell_type": "code",
   "execution_count": 46,
   "id": "a91b64a9",
   "metadata": {},
   "outputs": [
    {
     "name": "stdout",
     "output_type": "stream",
     "text": [
      "R Squared: 100.0000\n",
      "Mean Absolute Error:  0.0\n",
      "Mean Square Error:  0.0\n",
      "Root Mean Square Error:  0.0\n"
     ]
    }
   ],
   "source": [
    "#Performance matrix\n",
    "from sklearn import metrics\n",
    "meanAbErr= metrics.mean_absolute_error(Y_test,Y_pred)\n",
    "meanSqErr=metrics.mean_squared_error(Y_test,Y_pred)\n",
    "rootMeanSqErr = np.sqrt(metrics.mean_squared_error(Y_test,Y_pred))\n",
    "print('R Squared: {:.4f}'.format(regressor.score(Xnorm,Ynorm)*100))\n",
    "print('Mean Absolute Error: ', meanAbErr)\n",
    "print('Mean Square Error: ', meanSqErr)\n",
    "print('Root Mean Square Error: ', rootMeanSqErr)"
   ]
  },
  {
   "cell_type": "code",
   "execution_count": 47,
   "id": "e3689d9c",
   "metadata": {},
   "outputs": [
    {
     "data": {
      "image/png": "[encoded data removed]",
      "text/plain": [
       "<Figure size 432x288 with 1 Axes>"
      ]
     },
     "metadata": {
      "needs_background": "light"
     },
     "output_type": "display_data"
    }
   ],
   "source": [
    "plt.scatter(X_train, Y_train, color='red') \n",
    "plt.plot(X_train, regressor.predict(X_train), color='blue') \n",
    "plt.title(\"Salary vs Experience (Training set)\") \n",
    "plt.xlabel(\"Years of experience\") \n",
    "plt.ylabel(\"Salaries\")\n",
    "plt.show() "
   ]
  },
  {
   "cell_type": "markdown",
   "id": "a204f38f",
   "metadata": {},
   "source": [
    "# Binary Data Transformation"
   ]
  },
  {
   "cell_type": "code",
   "execution_count": 48,
   "id": "9cabca31",
   "metadata": {},
   "outputs": [],
   "source": [
    "from sklearn.preprocessing import Binarizer"
   ]
  },
  {
   "cell_type": "code",
   "execution_count": 49,
   "id": "c59a201a",
   "metadata": {},
   "outputs": [
    {
     "name": "stdout",
     "output_type": "stream",
     "text": [
      "[[0.]\n",
      " [0.]\n",
      " [0.]\n",
      " [0.]\n",
      " [0.]\n",
      " [0.]\n",
      " [0.]\n",
      " [0.]\n",
      " [0.]\n",
      " [0.]\n",
      " [0.]\n",
      " [0.]\n",
      " [0.]\n",
      " [0.]\n",
      " [0.]\n",
      " [0.]\n",
      " [0.]\n",
      " [0.]\n",
      " [0.]\n",
      " [0.]\n",
      " [0.]\n",
      " [0.]\n",
      " [0.]\n",
      " [0.]\n",
      " [0.]\n",
      " [0.]\n",
      " [0.]\n",
      " [0.]\n",
      " [0.]\n",
      " [0.]]\n"
     ]
    }
   ],
   "source": [
    "binarizer = Binarizer(threshold=500).fit(X)\n",
    "binaryX = binarizer.transform(X)\n",
    "print(binaryX)"
   ]
  },
  {
   "cell_type": "code",
   "execution_count": 50,
   "id": "045f1ce2",
   "metadata": {},
   "outputs": [
    {
     "name": "stdout",
     "output_type": "stream",
     "text": [
      "[[1.]\n",
      " [1.]\n",
      " [1.]\n",
      " [1.]\n",
      " [1.]\n",
      " [1.]\n",
      " [1.]\n",
      " [1.]\n",
      " [1.]\n",
      " [1.]\n",
      " [1.]\n",
      " [1.]\n",
      " [1.]\n",
      " [1.]\n",
      " [1.]\n",
      " [1.]\n",
      " [1.]\n",
      " [1.]\n",
      " [1.]\n",
      " [1.]\n",
      " [1.]\n",
      " [1.]\n",
      " [1.]\n",
      " [1.]\n",
      " [1.]\n",
      " [1.]\n",
      " [1.]\n",
      " [1.]\n",
      " [1.]\n",
      " [1.]]\n"
     ]
    }
   ],
   "source": [
    "binarizer = Binarizer(threshold=100).fit(Y)\n",
    "binaryY = binarizer.transform(Y)\n",
    "print(binaryY)"
   ]
  },
  {
   "cell_type": "code",
   "execution_count": 51,
   "id": "8596787c",
   "metadata": {},
   "outputs": [],
   "source": [
    "from sklearn.model_selection import train_test_split\n",
    "X_train, X_test, Y_train, Y_test= train_test_split(binaryX, binaryY, test_size=1/3, random_state=10)"
   ]
  },
  {
   "cell_type": "code",
   "execution_count": 52,
   "id": "d5743e6d",
   "metadata": {},
   "outputs": [
    {
     "data": {
      "text/plain": [
       "LinearRegression()"
      ]
     },
     "execution_count": 52,
     "metadata": {},
     "output_type": "execute_result"
    }
   ],
   "source": [
    "from sklearn.linear_model import LinearRegression\n",
    "regressor = LinearRegression()\n",
    "regressor.fit(X_train,Y_train)"
   ]
  },
  {
   "cell_type": "code",
   "execution_count": 53,
   "id": "a973d5c9",
   "metadata": {},
   "outputs": [
    {
     "name": "stdout",
     "output_type": "stream",
     "text": [
      "[[1.]\n",
      " [1.]\n",
      " [1.]\n",
      " [1.]\n",
      " [1.]\n",
      " [1.]\n",
      " [1.]\n",
      " [1.]\n",
      " [1.]\n",
      " [1.]]\n"
     ]
    }
   ],
   "source": [
    "# predicting the test set results\n",
    "Y_pred = regressor.predict(X_test)\n",
    "print(Y_pred)"
   ]
  },
  {
   "cell_type": "code",
   "execution_count": 54,
   "id": "a61dff05",
   "metadata": {},
   "outputs": [
    {
     "name": "stdout",
     "output_type": "stream",
     "text": [
      "[[1.]\n",
      " [1.]\n",
      " [1.]\n",
      " [1.]\n",
      " [1.]\n",
      " [1.]\n",
      " [1.]\n",
      " [1.]\n",
      " [1.]\n",
      " [1.]]\n"
     ]
    }
   ],
   "source": [
    "print(Y_test)"
   ]
  },
  {
   "cell_type": "code",
   "execution_count": 55,
   "id": "41606fc4",
   "metadata": {},
   "outputs": [
    {
     "name": "stdout",
     "output_type": "stream",
     "text": [
      "R Squared: 100.0000\n",
      "Mean Absolute Error:  0.0\n",
      "Mean Square Error:  0.0\n",
      "Root Mean Square Error:  0.0\n"
     ]
    }
   ],
   "source": [
    "#Performance matrix\n",
    "from sklearn import metrics\n",
    "meanAbErr= metrics.mean_absolute_error(Y_test,Y_pred)\n",
    "meanSqErr=metrics.mean_squared_error(Y_test,Y_pred)\n",
    "rootMeanSqErr = np.sqrt(metrics.mean_squared_error(Y_test,Y_pred))\n",
    "print('R Squared: {:.4f}'.format(regressor.score(binaryX,binaryY)*100))\n",
    "print('Mean Absolute Error: ', meanAbErr)\n",
    "print('Mean Square Error: ', meanSqErr)\n",
    "print('Root Mean Square Error: ', rootMeanSqErr)"
   ]
  },
  {
   "cell_type": "code",
   "execution_count": 56,
   "id": "0aaf394f",
   "metadata": {},
   "outputs": [
    {
     "data": {
      "image/png": "[encoded data removed]",
      "text/plain": [
       "<Figure size 432x288 with 1 Axes>"
      ]
     },
     "metadata": {
      "needs_background": "light"
     },
     "output_type": "display_data"
    }
   ],
   "source": [
    "plt.scatter(X_train, Y_train, color='red') \n",
    "plt.plot(X_train, regressor.predict(X_train), color='blue') \n",
    "plt.title(\"Salary vs Experience (Training set)\") \n",
    "plt.xlabel(\"Years of experience\") \n",
    "plt.ylabel(\"Salaries\")\n",
    "plt.show() "
   ]
  },
  {
   "cell_type": "markdown",
   "id": "1104483c",
   "metadata": {},
   "source": [
    "## Hence, MinMax Scalar and CV is found to be the best data transformation algorithm to optimize the model prediction by minimizing losses."
   ]
  }
 ],
 "metadata": {
  "kernelspec": {
   "display_name": "Python 3 (ipykernel)",
   "language": "python",
   "name": "python3"
  },
  "language_info": {
   "codemirror_mode": {
    "name": "ipython",
    "version": 3
   },
   "file_extension": ".py",
   "mimetype": "text/x-python",
   "name": "python",
   "nbconvert_exporter": "python",
   "pygments_lexer": "ipython3",
   "version": "3.8.5"
  }
 },
 "nbformat": 4,
 "nbformat_minor": 5
}
