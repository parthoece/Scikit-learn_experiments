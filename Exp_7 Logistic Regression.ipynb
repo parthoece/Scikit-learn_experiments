{
 "cells": [
  {
   "cell_type": "markdown",
   "id": "f310dcc8",
   "metadata": {},
   "source": [
    "# Exp: 7- Logistic Regression"
   ]
  },
  {
   "cell_type": "code",
   "execution_count": 1,
   "id": "b9e77bfe",
   "metadata": {},
   "outputs": [
    {
     "name": "stdout",
     "output_type": "stream",
     "text": [
      "     preg   plas  pres  skin   insu  mass   pedi   age            class\n",
      "0     6.0  148.0  72.0  35.0    0.0  33.6  0.627  50.0  tested_positive\n",
      "1     1.0   85.0  66.0  29.0    0.0  26.6  0.351  31.0  tested_negative\n",
      "2     8.0  183.0  64.0   0.0    0.0  23.3  0.672  32.0  tested_positive\n",
      "3     1.0   89.0  66.0  23.0   94.0  28.1  0.167  21.0  tested_negative\n",
      "4     0.0  137.0  40.0  35.0  168.0  43.1  2.288  33.0  tested_positive\n",
      "..    ...    ...   ...   ...    ...   ...    ...   ...              ...\n",
      "763  10.0  101.0  76.0  48.0  180.0  32.9  0.171  63.0  tested_negative\n",
      "764   2.0  122.0  70.0  27.0    0.0  36.8  0.340  27.0  tested_negative\n",
      "765   5.0  121.0  72.0  23.0  112.0  26.2  0.245  30.0  tested_negative\n",
      "766   1.0  126.0  60.0   0.0    0.0  30.1  0.349  47.0  tested_positive\n",
      "767   1.0   93.0  70.0  31.0    0.0  30.4  0.315  23.0  tested_negative\n",
      "\n",
      "[768 rows x 9 columns]\n"
     ]
    }
   ],
   "source": [
    "import sklearn.datasets\n",
    "import numpy as np\n",
    "import pandas as pd\n",
    "from sklearn.model_selection import train_test_split\n",
    "from sklearn import datasets\n",
    "from sklearn.naive_bayes import GaussianNB\n",
    " \n",
    "data = sklearn.datasets.fetch_openml(\"diabetes\", version=1, as_frame=True, return_X_y=False)\n",
    "data = data[\"frame\"]\n",
    "print(data)"
   ]
  },
  {
   "cell_type": "code",
   "execution_count": 6,
   "id": "2a537412",
   "metadata": {},
   "outputs": [],
   "source": [
    "#Converting  catagorcal class into numerical value\n",
    "data['class'].replace(['tested_positive', 'tested_negative'],\n",
    "                        [1, 0], inplace=True)\n"
   ]
  },
  {
   "cell_type": "code",
   "execution_count": 7,
   "id": "70fb731b",
   "metadata": {},
   "outputs": [
    {
     "data": {
      "text/html": [
       "<div>\n",
       "<style scoped>\n",
       "    .dataframe tbody tr th:only-of-type {\n",
       "        vertical-align: middle;\n",
       "    }\n",
       "\n",
       "    .dataframe tbody tr th {\n",
       "        vertical-align: top;\n",
       "    }\n",
       "\n",
       "    .dataframe thead th {\n",
       "        text-align: right;\n",
       "    }\n",
       "</style>\n",
       "<table border=\"1\" class=\"dataframe\">\n",
       "  <thead>\n",
       "    <tr style=\"text-align: right;\">\n",
       "      <th></th>\n",
       "      <th>preg</th>\n",
       "      <th>plas</th>\n",
       "      <th>pres</th>\n",
       "      <th>skin</th>\n",
       "      <th>insu</th>\n",
       "      <th>mass</th>\n",
       "      <th>pedi</th>\n",
       "      <th>age</th>\n",
       "      <th>class</th>\n",
       "    </tr>\n",
       "  </thead>\n",
       "  <tbody>\n",
       "    <tr>\n",
       "      <th>0</th>\n",
       "      <td>6.0</td>\n",
       "      <td>148.0</td>\n",
       "      <td>72.0</td>\n",
       "      <td>35.0</td>\n",
       "      <td>0.0</td>\n",
       "      <td>33.6</td>\n",
       "      <td>0.627</td>\n",
       "      <td>50.0</td>\n",
       "      <td>1</td>\n",
       "    </tr>\n",
       "    <tr>\n",
       "      <th>1</th>\n",
       "      <td>1.0</td>\n",
       "      <td>85.0</td>\n",
       "      <td>66.0</td>\n",
       "      <td>29.0</td>\n",
       "      <td>0.0</td>\n",
       "      <td>26.6</td>\n",
       "      <td>0.351</td>\n",
       "      <td>31.0</td>\n",
       "      <td>0</td>\n",
       "    </tr>\n",
       "    <tr>\n",
       "      <th>2</th>\n",
       "      <td>8.0</td>\n",
       "      <td>183.0</td>\n",
       "      <td>64.0</td>\n",
       "      <td>0.0</td>\n",
       "      <td>0.0</td>\n",
       "      <td>23.3</td>\n",
       "      <td>0.672</td>\n",
       "      <td>32.0</td>\n",
       "      <td>1</td>\n",
       "    </tr>\n",
       "    <tr>\n",
       "      <th>3</th>\n",
       "      <td>1.0</td>\n",
       "      <td>89.0</td>\n",
       "      <td>66.0</td>\n",
       "      <td>23.0</td>\n",
       "      <td>94.0</td>\n",
       "      <td>28.1</td>\n",
       "      <td>0.167</td>\n",
       "      <td>21.0</td>\n",
       "      <td>0</td>\n",
       "    </tr>\n",
       "    <tr>\n",
       "      <th>4</th>\n",
       "      <td>0.0</td>\n",
       "      <td>137.0</td>\n",
       "      <td>40.0</td>\n",
       "      <td>35.0</td>\n",
       "      <td>168.0</td>\n",
       "      <td>43.1</td>\n",
       "      <td>2.288</td>\n",
       "      <td>33.0</td>\n",
       "      <td>1</td>\n",
       "    </tr>\n",
       "  </tbody>\n",
       "</table>\n",
       "</div>"
      ],
      "text/plain": [
       "   preg   plas  pres  skin   insu  mass   pedi   age class\n",
       "0   6.0  148.0  72.0  35.0    0.0  33.6  0.627  50.0     1\n",
       "1   1.0   85.0  66.0  29.0    0.0  26.6  0.351  31.0     0\n",
       "2   8.0  183.0  64.0   0.0    0.0  23.3  0.672  32.0     1\n",
       "3   1.0   89.0  66.0  23.0   94.0  28.1  0.167  21.0     0\n",
       "4   0.0  137.0  40.0  35.0  168.0  43.1  2.288  33.0     1"
      ]
     },
     "execution_count": 7,
     "metadata": {},
     "output_type": "execute_result"
    }
   ],
   "source": [
    "data.head()"
   ]
  },
  {
   "cell_type": "code",
   "execution_count": 8,
   "id": "80beb5df",
   "metadata": {},
   "outputs": [
    {
     "name": "stdout",
     "output_type": "stream",
     "text": [
      "Shape: (768, 9)\n"
     ]
    },
    {
     "data": {
      "text/plain": [
       "preg     0\n",
       "plas     0\n",
       "pres     0\n",
       "skin     0\n",
       "insu     0\n",
       "mass     0\n",
       "pedi     0\n",
       "age      0\n",
       "class    0\n",
       "dtype: int64"
      ]
     },
     "execution_count": 8,
     "metadata": {},
     "output_type": "execute_result"
    }
   ],
   "source": [
    "print(\"Shape:\", data.shape)\n",
    "data.isnull().sum()"
   ]
  },
  {
   "cell_type": "code",
   "execution_count": 9,
   "id": "d2f99a10",
   "metadata": {},
   "outputs": [],
   "source": [
    "X=data.loc[:,[\"preg\",\"plas\", \"pres\",\"skin\",\"insu\",\"mass\",\"pedi\",\"age\"]]\n",
    "Y=data.loc[:,[\"class\"]]"
   ]
  },
  {
   "cell_type": "code",
   "execution_count": 10,
   "id": "f399fd84",
   "metadata": {},
   "outputs": [],
   "source": [
    "X_train, X_test, y_train, y_test= train_test_split(X, Y, test_size= 0.3, random_state = 123)"
   ]
  },
  {
   "cell_type": "code",
   "execution_count": 11,
   "id": "7b8ad512",
   "metadata": {},
   "outputs": [
    {
     "name": "stderr",
     "output_type": "stream",
     "text": [
      "/home/parth/anaconda3/envs/tfenv/lib/python3.8/site-packages/sklearn/utils/validation.py:993: DataConversionWarning: A column-vector y was passed when a 1d array was expected. Please change the shape of y to (n_samples, ), for example using ravel().\n",
      "  y = column_or_1d(y, warn=True)\n",
      "/home/parth/anaconda3/envs/tfenv/lib/python3.8/site-packages/sklearn/linear_model/_logistic.py:814: ConvergenceWarning: lbfgs failed to converge (status=1):\n",
      "STOP: TOTAL NO. of ITERATIONS REACHED LIMIT.\n",
      "\n",
      "Increase the number of iterations (max_iter) or scale the data as shown in:\n",
      "    https://scikit-learn.org/stable/modules/preprocessing.html\n",
      "Please also refer to the documentation for alternative solver options:\n",
      "    https://scikit-learn.org/stable/modules/linear_model.html#logistic-regression\n",
      "  n_iter_i = _check_optimize_result(\n"
     ]
    }
   ],
   "source": [
    "from sklearn.linear_model import LogisticRegression\n",
    "clf = LogisticRegression(random_state=1).fit(X_train, y_train)\n",
    "y_pred=clf.predict(X_test)"
   ]
  },
  {
   "cell_type": "code",
   "execution_count": 12,
   "id": "52dfae46",
   "metadata": {},
   "outputs": [
    {
     "data": {
      "text/plain": [
       "array([[0.1433398 , 0.8566602 ],\n",
       "       [0.68256504, 0.31743496],\n",
       "       [0.34581242, 0.65418758],\n",
       "       [0.94421551, 0.05578449],\n",
       "       [0.91986362, 0.08013638],\n",
       "       [0.36459965, 0.63540035],\n",
       "       [0.10287776, 0.89712224],\n",
       "       [0.47468269, 0.52531731],\n",
       "       [0.38201016, 0.61798984],\n",
       "       [0.69899789, 0.30100211],\n",
       "       [0.13456395, 0.86543605],\n",
       "       [0.81155226, 0.18844774],\n",
       "       [0.87996909, 0.12003091],\n",
       "       [0.75171552, 0.24828448],\n",
       "       [0.15818717, 0.84181283],\n",
       "       [0.96041478, 0.03958522],\n",
       "       [0.75206451, 0.24793549],\n",
       "       [0.92514771, 0.07485229],\n",
       "       [0.94515118, 0.05484882],\n",
       "       [0.60126586, 0.39873414],\n",
       "       [0.30473822, 0.69526178],\n",
       "       [0.79891317, 0.20108683],\n",
       "       [0.71647584, 0.28352416],\n",
       "       [0.05984627, 0.94015373],\n",
       "       [0.04998388, 0.95001612],\n",
       "       [0.8822916 , 0.1177084 ],\n",
       "       [0.93691134, 0.06308866],\n",
       "       [0.72987992, 0.27012008],\n",
       "       [0.60036677, 0.39963323],\n",
       "       [0.12206739, 0.87793261],\n",
       "       [0.79866053, 0.20133947],\n",
       "       [0.15468593, 0.84531407],\n",
       "       [0.17005179, 0.82994821],\n",
       "       [0.86874491, 0.13125509],\n",
       "       [0.75049548, 0.24950452],\n",
       "       [0.71376931, 0.28623069],\n",
       "       [0.13474315, 0.86525685],\n",
       "       [0.87407848, 0.12592152],\n",
       "       [0.89839071, 0.10160929],\n",
       "       [0.70801594, 0.29198406],\n",
       "       [0.96577329, 0.03422671],\n",
       "       [0.71543591, 0.28456409],\n",
       "       [0.94327047, 0.05672953],\n",
       "       [0.62316869, 0.37683131],\n",
       "       [0.81591204, 0.18408796],\n",
       "       [0.54275931, 0.45724069],\n",
       "       [0.28116616, 0.71883384],\n",
       "       [0.97495972, 0.02504028],\n",
       "       [0.85534233, 0.14465767],\n",
       "       [0.9477981 , 0.0522019 ],\n",
       "       [0.96046367, 0.03953633],\n",
       "       [0.92526674, 0.07473326],\n",
       "       [0.86495484, 0.13504516],\n",
       "       [0.96222199, 0.03777801],\n",
       "       [0.80544612, 0.19455388],\n",
       "       [0.89577486, 0.10422514],\n",
       "       [0.3192249 , 0.6807751 ],\n",
       "       [0.4855793 , 0.5144207 ],\n",
       "       [0.30143539, 0.69856461],\n",
       "       [0.43355584, 0.56644416],\n",
       "       [0.701853  , 0.298147  ],\n",
       "       [0.97997747, 0.02002253],\n",
       "       [0.35313458, 0.64686542],\n",
       "       [0.88320511, 0.11679489],\n",
       "       [0.76182819, 0.23817181],\n",
       "       [0.99720644, 0.00279356],\n",
       "       [0.11032214, 0.88967786],\n",
       "       [0.66487791, 0.33512209],\n",
       "       [0.96278986, 0.03721014],\n",
       "       [0.72505005, 0.27494995],\n",
       "       [0.65113613, 0.34886387],\n",
       "       [0.53500007, 0.46499993],\n",
       "       [0.24047086, 0.75952914],\n",
       "       [0.84086687, 0.15913313],\n",
       "       [0.37284361, 0.62715639],\n",
       "       [0.94278352, 0.05721648],\n",
       "       [0.92174008, 0.07825992],\n",
       "       [0.65162545, 0.34837455],\n",
       "       [0.52665698, 0.47334302],\n",
       "       [0.83472933, 0.16527067],\n",
       "       [0.67746452, 0.32253548],\n",
       "       [0.11971509, 0.88028491],\n",
       "       [0.94961387, 0.05038613],\n",
       "       [0.34531187, 0.65468813],\n",
       "       [0.64722381, 0.35277619],\n",
       "       [0.9682692 , 0.0317308 ],\n",
       "       [0.31166673, 0.68833327],\n",
       "       [0.91261959, 0.08738041],\n",
       "       [0.08424654, 0.91575346],\n",
       "       [0.54053489, 0.45946511],\n",
       "       [0.91721498, 0.08278502],\n",
       "       [0.59788256, 0.40211744],\n",
       "       [0.90852177, 0.09147823],\n",
       "       [0.75901201, 0.24098799],\n",
       "       [0.55875569, 0.44124431],\n",
       "       [0.8509653 , 0.1490347 ],\n",
       "       [0.74158831, 0.25841169],\n",
       "       [0.1433111 , 0.8566889 ],\n",
       "       [0.76314775, 0.23685225],\n",
       "       [0.80221075, 0.19778925],\n",
       "       [0.58134521, 0.41865479],\n",
       "       [0.28652428, 0.71347572],\n",
       "       [0.99392269, 0.00607731],\n",
       "       [0.89592841, 0.10407159],\n",
       "       [0.95976196, 0.04023804],\n",
       "       [0.72667622, 0.27332378],\n",
       "       [0.96548624, 0.03451376],\n",
       "       [0.26246323, 0.73753677],\n",
       "       [0.49054788, 0.50945212],\n",
       "       [0.90034697, 0.09965303],\n",
       "       [0.3132318 , 0.6867682 ],\n",
       "       [0.93317192, 0.06682808],\n",
       "       [0.35760179, 0.64239821],\n",
       "       [0.26001378, 0.73998622],\n",
       "       [0.37708201, 0.62291799],\n",
       "       [0.94799457, 0.05200543],\n",
       "       [0.92583692, 0.07416308],\n",
       "       [0.26388329, 0.73611671],\n",
       "       [0.65418806, 0.34581194],\n",
       "       [0.77559637, 0.22440363],\n",
       "       [0.63175349, 0.36824651],\n",
       "       [0.34099416, 0.65900584],\n",
       "       [0.63060978, 0.36939022],\n",
       "       [0.53352786, 0.46647214],\n",
       "       [0.88824094, 0.11175906],\n",
       "       [0.14890441, 0.85109559],\n",
       "       [0.76919092, 0.23080908],\n",
       "       [0.69322404, 0.30677596],\n",
       "       [0.75873555, 0.24126445],\n",
       "       [0.82803029, 0.17196971],\n",
       "       [0.89401946, 0.10598054],\n",
       "       [0.47142712, 0.52857288],\n",
       "       [0.08587637, 0.91412363],\n",
       "       [0.96476954, 0.03523046],\n",
       "       [0.83014475, 0.16985525],\n",
       "       [0.93245908, 0.06754092],\n",
       "       [0.96121186, 0.03878814],\n",
       "       [0.26859233, 0.73140767],\n",
       "       [0.9116955 , 0.0883045 ],\n",
       "       [0.80769772, 0.19230228],\n",
       "       [0.3491376 , 0.6508624 ],\n",
       "       [0.23773126, 0.76226874],\n",
       "       [0.97280067, 0.02719933],\n",
       "       [0.95163101, 0.04836899],\n",
       "       [0.82190073, 0.17809927],\n",
       "       [0.78106543, 0.21893457],\n",
       "       [0.86521047, 0.13478953],\n",
       "       [0.64541663, 0.35458337],\n",
       "       [0.76601659, 0.23398341],\n",
       "       [0.95339314, 0.04660686],\n",
       "       [0.08417261, 0.91582739],\n",
       "       [0.94366322, 0.05633678],\n",
       "       [0.85460308, 0.14539692],\n",
       "       [0.91664467, 0.08335533],\n",
       "       [0.71063765, 0.28936235],\n",
       "       [0.78205822, 0.21794178],\n",
       "       [0.31758961, 0.68241039],\n",
       "       [0.91409205, 0.08590795],\n",
       "       [0.87033519, 0.12966481],\n",
       "       [0.32854793, 0.67145207],\n",
       "       [0.68199705, 0.31800295],\n",
       "       [0.87549496, 0.12450504],\n",
       "       [0.67960011, 0.32039989],\n",
       "       [0.23231401, 0.76768599],\n",
       "       [0.15521937, 0.84478063],\n",
       "       [0.50028273, 0.49971727],\n",
       "       [0.87419272, 0.12580728],\n",
       "       [0.78623608, 0.21376392],\n",
       "       [0.7813448 , 0.2186552 ],\n",
       "       [0.21416551, 0.78583449],\n",
       "       [0.61530333, 0.38469667],\n",
       "       [0.1815282 , 0.8184718 ],\n",
       "       [0.53731225, 0.46268775],\n",
       "       [0.85364652, 0.14635348],\n",
       "       [0.62970618, 0.37029382],\n",
       "       [0.84681597, 0.15318403],\n",
       "       [0.84641288, 0.15358712],\n",
       "       [0.84747079, 0.15252921],\n",
       "       [0.3668083 , 0.6331917 ],\n",
       "       [0.24380551, 0.75619449],\n",
       "       [0.89567477, 0.10432523],\n",
       "       [0.28506086, 0.71493914],\n",
       "       [0.20630575, 0.79369425],\n",
       "       [0.87538893, 0.12461107],\n",
       "       [0.36609039, 0.63390961],\n",
       "       [0.58370478, 0.41629522],\n",
       "       [0.96942347, 0.03057653],\n",
       "       [0.46468652, 0.53531348],\n",
       "       [0.55156896, 0.44843104],\n",
       "       [0.89395816, 0.10604184],\n",
       "       [0.42086872, 0.57913128],\n",
       "       [0.89898867, 0.10101133],\n",
       "       [0.51367842, 0.48632158],\n",
       "       [0.47214063, 0.52785937],\n",
       "       [0.9465411 , 0.0534589 ],\n",
       "       [0.81273063, 0.18726937],\n",
       "       [0.96445842, 0.03554158],\n",
       "       [0.99137311, 0.00862689],\n",
       "       [0.36951693, 0.63048307],\n",
       "       [0.9074942 , 0.0925058 ],\n",
       "       [0.90984585, 0.09015415],\n",
       "       [0.96394027, 0.03605973],\n",
       "       [0.90273209, 0.09726791],\n",
       "       [0.37603884, 0.62396116],\n",
       "       [0.31143598, 0.68856402],\n",
       "       [0.93284943, 0.06715057],\n",
       "       [0.09912869, 0.90087131],\n",
       "       [0.12787743, 0.87212257],\n",
       "       [0.78842814, 0.21157186],\n",
       "       [0.34228167, 0.65771833],\n",
       "       [0.81231518, 0.18768482],\n",
       "       [0.28332183, 0.71667817],\n",
       "       [0.89576792, 0.10423208],\n",
       "       [0.34985402, 0.65014598],\n",
       "       [0.63388679, 0.36611321],\n",
       "       [0.57050064, 0.42949936],\n",
       "       [0.26251904, 0.73748096],\n",
       "       [0.90266039, 0.09733961],\n",
       "       [0.03545471, 0.96454529],\n",
       "       [0.25753743, 0.74246257],\n",
       "       [0.33480482, 0.66519518],\n",
       "       [0.06478523, 0.93521477],\n",
       "       [0.73168105, 0.26831895],\n",
       "       [0.68811693, 0.31188307],\n",
       "       [0.77695812, 0.22304188],\n",
       "       [0.58389641, 0.41610359],\n",
       "       [0.83679252, 0.16320748],\n",
       "       [0.26214418, 0.73785582],\n",
       "       [0.93357622, 0.06642378],\n",
       "       [0.687691  , 0.312309  ],\n",
       "       [0.7115687 , 0.2884313 ]])"
      ]
     },
     "execution_count": 12,
     "metadata": {},
     "output_type": "execute_result"
    }
   ],
   "source": [
    "clf.predict_proba(X_test)"
   ]
  },
  {
   "cell_type": "code",
   "execution_count": 13,
   "id": "ef80a3b0",
   "metadata": {},
   "outputs": [
    {
     "data": {
      "text/plain": [
       "0.7746741154562383"
      ]
     },
     "execution_count": 13,
     "metadata": {},
     "output_type": "execute_result"
    }
   ],
   "source": [
    "clf.score(X_train, y_train)"
   ]
  },
  {
   "cell_type": "code",
   "execution_count": 24,
   "id": "6f852b8c",
   "metadata": {},
   "outputs": [
    {
     "name": "stdout",
     "output_type": "stream",
     "text": [
      "Accuracy: 0.7965367965367965\n",
      "Precision: 0.7808219178082192\n",
      "Recall: 0.6477272727272727\n",
      "Mean Absolute Error:  0.20346320346320346\n",
      "Mean Square Error:  0.20346320346320346\n",
      "Root Mean Square Error:  0.4510689564392605\n"
     ]
    }
   ],
   "source": [
    "#Performance matrix\n",
    "from sklearn import metrics\n",
    "meanAbErr= metrics.mean_absolute_error(y_test,y_pred)\n",
    "meanSqErr=metrics.mean_squared_error(y_test,y_pred)\n",
    "rootMeanSqErr = np.sqrt(metrics.mean_squared_error(y_test,y_pred))\n",
    "print(\"Accuracy:\",metrics.accuracy_score(y_test, y_pred))\n",
    "print(\"Precision:\",metrics.precision_score(y_test, y_pred))\n",
    "print(\"Recall:\",metrics.recall_score(y_test, y_pred))\n",
    "print('Mean Absolute Error: ', meanAbErr)\n",
    "print('Mean Square Error: ', meanSqErr)\n",
    "print('Root Mean Square Error: ', rootMeanSqErr)"
   ]
  },
  {
   "cell_type": "code",
   "execution_count": 16,
   "id": "1f40f268",
   "metadata": {},
   "outputs": [],
   "source": [
    "# import required modules\n",
    "import numpy as np\n",
    "import matplotlib.pyplot as plt\n",
    "import seaborn as sns\n",
    "%matplotlib inline"
   ]
  },
  {
   "cell_type": "code",
   "execution_count": 21,
   "id": "ee7b2081",
   "metadata": {},
   "outputs": [
    {
     "data": {
      "text/plain": [
       "array([[127,  16],\n",
       "       [ 31,  57]])"
      ]
     },
     "execution_count": 21,
     "metadata": {},
     "output_type": "execute_result"
    }
   ],
   "source": [
    "from sklearn import metrics\n",
    "cnf_matrix = metrics.confusion_matrix(y_test, y_pred)\n",
    "cnf_matrix"
   ]
  },
  {
   "cell_type": "code",
   "execution_count": 22,
   "id": "3ad163c7",
   "metadata": {},
   "outputs": [
    {
     "data": {
      "text/plain": [
       "Text(0.5, 257.44, 'Predicted label')"
      ]
     },
     "execution_count": 22,
     "metadata": {},
     "output_type": "execute_result"
    },
    {
     "data": {
      "image/png": "[encoded data removed]",
      "text/plain": [
       "<Figure size 432x288 with 2 Axes>"
      ]
     },
     "metadata": {
      "needs_background": "light"
     },
     "output_type": "display_data"
    }
   ],
   "source": [
    "class_names=[0,1] # name  of classes\n",
    "fig, ax = plt.subplots()\n",
    "tick_marks = np.arange(len(class_names))\n",
    "plt.xticks(tick_marks, class_names)\n",
    "plt.yticks(tick_marks, class_names)\n",
    "# create heatmap\n",
    "sns.heatmap(pd.DataFrame(cnf_matrix), annot=True, cmap=\"YlGnBu\" ,fmt='g')\n",
    "ax.xaxis.set_label_position(\"top\")\n",
    "plt.tight_layout()\n",
    "plt.title('Confusion matrix', y=1.1)\n",
    "plt.ylabel('Actual label')\n",
    "plt.xlabel('Predicted label')"
   ]
  },
  {
   "cell_type": "code",
   "execution_count": 19,
   "id": "dc84018b",
   "metadata": {},
   "outputs": [
    {
     "data": {
      "image/png": "[encoded data removed]",
      "text/plain": [
       "<Figure size 432x288 with 1 Axes>"
      ]
     },
     "metadata": {
      "needs_background": "light"
     },
     "output_type": "display_data"
    }
   ],
   "source": [
    "y_pred_proba = clf.predict_proba(X_test)[::,1]\n",
    "fpr, tpr, _ = metrics.roc_curve(y_test,  y_pred_proba)\n",
    "auc = metrics.roc_auc_score(y_test, y_pred_proba)\n",
    "plt.plot(fpr,tpr,label=\"data 1, auc=\"+str(auc))\n",
    "plt.legend(loc=4)\n",
    "plt.show()"
   ]
  }
 ],
 "metadata": {
  "kernelspec": {
   "display_name": "Python 3 (ipykernel)",
   "language": "python",
   "name": "python3"
  },
  "language_info": {
   "codemirror_mode": {
    "name": "ipython",
    "version": 3
   },
   "file_extension": ".py",
   "mimetype": "text/x-python",
   "name": "python",
   "nbconvert_exporter": "python",
   "pygments_lexer": "ipython3",
   "version": "3.8.5"
  }
 },
 "nbformat": 4,
 "nbformat_minor": 5
}
