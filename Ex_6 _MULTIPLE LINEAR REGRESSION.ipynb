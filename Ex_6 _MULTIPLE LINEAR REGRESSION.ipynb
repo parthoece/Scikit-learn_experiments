{
 "cells": [
  {
   "cell_type": "code",
   "execution_count": 3,
   "id": "b2762a41",
   "metadata": {},
   "outputs": [],
   "source": [
    "# importing libraries  \n",
    "import numpy as np \n",
    "import pandas as pd  \n",
    "import matplotlib.pyplot as plt"
   ]
  },
  {
   "cell_type": "code",
   "execution_count": 4,
   "id": "a349d4fb",
   "metadata": {},
   "outputs": [],
   "source": [
    "#importing datasets  \n",
    "data_set= pd.read_csv(\"/home/parth/Downloads/FML Lab/Dataset/50startups.csv\")  "
   ]
  },
  {
   "cell_type": "code",
   "execution_count": 5,
   "id": "6aa04e40",
   "metadata": {},
   "outputs": [],
   "source": [
    "#Extracting Independent and dependent Variable  \n",
    "x= data_set.iloc[:, :-1].values  \n",
    "y= data_set.iloc[:, 4].values"
   ]
  },
  {
   "cell_type": "code",
   "execution_count": 6,
   "id": "41afbcec",
   "metadata": {},
   "outputs": [],
   "source": [
    "#Encoding dummy variables: Catgorical data  \n",
    "from sklearn.preprocessing import LabelEncoder, OneHotEncoder  \n",
    "labelencoder_x= LabelEncoder()  \n",
    "x[:, 3]= labelencoder_x.fit_transform(x[:,3]) "
   ]
  },
  {
   "cell_type": "code",
   "execution_count": 7,
   "id": "2ab6487e",
   "metadata": {},
   "outputs": [],
   "source": [
    "from sklearn.compose import ColumnTransformer\n",
    "\n",
    "ct = ColumnTransformer([('oneHe', OneHotEncoder(categories='auto'), [3])] ,remainder='passthrough')\n",
    "\n",
    "x= ct.fit_transform(x)  \n",
    "\n",
    "# Splitting the dataset into training and test set.  \n",
    "from sklearn.model_selection import train_test_split  \n",
    "x_train, x_test, y_train, y_test= train_test_split(x, y, test_size= 0.2, random_state=0)  \n"
   ]
  },
  {
   "cell_type": "code",
   "execution_count": 8,
   "id": "558a3957",
   "metadata": {},
   "outputs": [
    {
     "data": {
      "text/plain": [
       "LinearRegression()"
      ]
     },
     "execution_count": 8,
     "metadata": {},
     "output_type": "execute_result"
    }
   ],
   "source": [
    "#Fitting the MLR model to the training set:  \n",
    "from sklearn.linear_model import LinearRegression  \n",
    "regressor= LinearRegression()  \n",
    "regressor.fit(x_train, y_train) "
   ]
  },
  {
   "cell_type": "code",
   "execution_count": 9,
   "id": "d2d291c3",
   "metadata": {},
   "outputs": [
    {
     "name": "stdout",
     "output_type": "stream",
     "text": [
      "Train Score:  0.9501847627493607\n",
      "Test Score:  0.9347068473282303\n"
     ]
    }
   ],
   "source": [
    "#Predicting the Test set result;  \n",
    "y_pred= regressor.predict(x_test)  \n",
    "print('Train Score: ', regressor.score(x_train, y_train))  \n",
    "print('Test Score: ', regressor.score(x_test, y_test)) "
   ]
  },
  {
   "cell_type": "code",
   "execution_count": 10,
   "id": "88cd257e",
   "metadata": {},
   "outputs": [
    {
     "name": "stdout",
     "output_type": "stream",
     "text": [
      "R Squared: 94.8522\n",
      "Mean Absolute Error:  7514.2936596413765\n",
      "Mean Square Error:  83502864.03259295\n",
      "Root Mean Square Error:  9137.990152795797\n"
     ]
    }
   ],
   "source": [
    "#Performance matrix\n",
    "from sklearn import metrics\n",
    "meanAbErr= metrics.mean_absolute_error(y_test,y_pred)\n",
    "meanSqErr=metrics.mean_squared_error(y_test,y_pred)\n",
    "rootMeanSqErr = np.sqrt(metrics.mean_squared_error(y_test,y_pred))\n",
    "print('R Squared: {:.4f}'.format(regressor.score(x,y)*100))\n",
    "print('Mean Absolute Error: ', meanAbErr)\n",
    "print('Mean Square Error: ', meanSqErr)\n",
    "print('Root Mean Square Error: ', rootMeanSqErr)"
   ]
  },
  {
   "cell_type": "code",
   "execution_count": 11,
   "id": "bfe23514",
   "metadata": {},
   "outputs": [
    {
     "data": {
      "text/plain": [
       "array([0.64120447, 0.88536669, 0.90980771, 0.8961349 , 0.97415038])"
      ]
     },
     "execution_count": 11,
     "metadata": {},
     "output_type": "execute_result"
    }
   ],
   "source": [
    "#cross_val_score CV\n",
    "from sklearn.model_selection import cross_val_score\n",
    "regressor = LinearRegression()\n",
    "\n",
    "scores = cross_val_score(regressor, x_train, y_train, scoring='r2', cv=5)\n",
    "scores"
   ]
  },
  {
   "cell_type": "code",
   "execution_count": 12,
   "id": "19bc432f",
   "metadata": {},
   "outputs": [
    {
     "data": {
      "text/plain": [
       "array([0.9358681 , 0.92363258, 0.91680444, 0.87877076, 0.93001118])"
      ]
     },
     "execution_count": 12,
     "metadata": {},
     "output_type": "execute_result"
    }
   ],
   "source": [
    "#ShuffleSplit CV\n",
    "from sklearn.model_selection import ShuffleSplit\n",
    "from sklearn.metrics import recall_score\n",
    "\n",
    "regressor= LinearRegression()  \n",
    "regressor.fit(x_train, y_train) \n",
    "\n",
    "cv = ShuffleSplit(n_splits=5, test_size=0.3, random_state=0)\n",
    "\n",
    "cross_val_score(regressor, x, y, cv=cv)"
   ]
  }
 ],
 "metadata": {
  "kernelspec": {
   "display_name": "Python 3 (ipykernel)",
   "language": "python",
   "name": "python3"
  },
  "language_info": {
   "codemirror_mode": {
    "name": "ipython",
    "version": 3
   },
   "file_extension": ".py",
   "mimetype": "text/x-python",
   "name": "python",
   "nbconvert_exporter": "python",
   "pygments_lexer": "ipython3",
   "version": "3.8.5"
  }
 },
 "nbformat": 4,
 "nbformat_minor": 5
}
