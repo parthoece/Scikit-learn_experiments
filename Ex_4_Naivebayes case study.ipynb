{
 "cells": [
  {
   "cell_type": "code",
   "execution_count": 1,
   "id": "a2048d98",
   "metadata": {},
   "outputs": [
    {
     "name": "stdout",
     "output_type": "stream",
     "text": [
      "     preg   plas  pres  skin   insu  mass   pedi   age            class\n",
      "0     6.0  148.0  72.0  35.0    0.0  33.6  0.627  50.0  tested_positive\n",
      "1     1.0   85.0  66.0  29.0    0.0  26.6  0.351  31.0  tested_negative\n",
      "2     8.0  183.0  64.0   0.0    0.0  23.3  0.672  32.0  tested_positive\n",
      "3     1.0   89.0  66.0  23.0   94.0  28.1  0.167  21.0  tested_negative\n",
      "4     0.0  137.0  40.0  35.0  168.0  43.1  2.288  33.0  tested_positive\n",
      "..    ...    ...   ...   ...    ...   ...    ...   ...              ...\n",
      "763  10.0  101.0  76.0  48.0  180.0  32.9  0.171  63.0  tested_negative\n",
      "764   2.0  122.0  70.0  27.0    0.0  36.8  0.340  27.0  tested_negative\n",
      "765   5.0  121.0  72.0  23.0  112.0  26.2  0.245  30.0  tested_negative\n",
      "766   1.0  126.0  60.0   0.0    0.0  30.1  0.349  47.0  tested_positive\n",
      "767   1.0   93.0  70.0  31.0    0.0  30.4  0.315  23.0  tested_negative\n",
      "\n",
      "[768 rows x 9 columns]\n"
     ]
    }
   ],
   "source": [
    "import sklearn.datasets\n",
    "import numpy as np\n",
    "import pandas as pd\n",
    "from sklearn.model_selection import train_test_split\n",
    "from sklearn import datasets\n",
    "from sklearn.naive_bayes import GaussianNB\n",
    " \n",
    "data = sklearn.datasets.fetch_openml(\"diabetes\", version=1, as_frame=True, return_X_y=False)\n",
    "data = data[\"frame\"]\n",
    "print(data)"
   ]
  },
  {
   "cell_type": "code",
   "execution_count": 2,
   "id": "f87d9a87",
   "metadata": {},
   "outputs": [
    {
     "name": "stdout",
     "output_type": "stream",
     "text": [
      "Shape: (768, 9)\n"
     ]
    },
    {
     "data": {
      "text/plain": [
       "preg     0\n",
       "plas     0\n",
       "pres     0\n",
       "skin     0\n",
       "insu     0\n",
       "mass     0\n",
       "pedi     0\n",
       "age      0\n",
       "class    0\n",
       "dtype: int64"
      ]
     },
     "execution_count": 2,
     "metadata": {},
     "output_type": "execute_result"
    }
   ],
   "source": [
    "print(\"Shape:\", data.shape)\n",
    "data.isnull().sum()"
   ]
  },
  {
   "cell_type": "code",
   "execution_count": 3,
   "id": "61ad341e",
   "metadata": {},
   "outputs": [],
   "source": [
    "X=data.loc[:,[\"preg\",\"plas\", \"pres\",\"skin\",\"insu\",\"mass\",\"pedi\",\"age\"]]\n",
    "Y=data.loc[:,[\"class\"]]"
   ]
  },
  {
   "cell_type": "code",
   "execution_count": 4,
   "id": "b43822aa",
   "metadata": {},
   "outputs": [
    {
     "name": "stdout",
     "output_type": "stream",
     "text": [
      "     preg   plas  pres  skin   insu  mass   pedi   age\n",
      "0     6.0  148.0  72.0  35.0    0.0  33.6  0.627  50.0\n",
      "1     1.0   85.0  66.0  29.0    0.0  26.6  0.351  31.0\n",
      "2     8.0  183.0  64.0   0.0    0.0  23.3  0.672  32.0\n",
      "3     1.0   89.0  66.0  23.0   94.0  28.1  0.167  21.0\n",
      "4     0.0  137.0  40.0  35.0  168.0  43.1  2.288  33.0\n",
      "..    ...    ...   ...   ...    ...   ...    ...   ...\n",
      "763  10.0  101.0  76.0  48.0  180.0  32.9  0.171  63.0\n",
      "764   2.0  122.0  70.0  27.0    0.0  36.8  0.340  27.0\n",
      "765   5.0  121.0  72.0  23.0  112.0  26.2  0.245  30.0\n",
      "766   1.0  126.0  60.0   0.0    0.0  30.1  0.349  47.0\n",
      "767   1.0   93.0  70.0  31.0    0.0  30.4  0.315  23.0\n",
      "\n",
      "[768 rows x 8 columns]\n"
     ]
    }
   ],
   "source": [
    "print(X)"
   ]
  },
  {
   "cell_type": "code",
   "execution_count": 5,
   "id": "cc25c2f1",
   "metadata": {},
   "outputs": [
    {
     "name": "stdout",
     "output_type": "stream",
     "text": [
      "               class\n",
      "0    tested_positive\n",
      "1    tested_negative\n",
      "2    tested_positive\n",
      "3    tested_negative\n",
      "4    tested_positive\n",
      "..               ...\n",
      "763  tested_negative\n",
      "764  tested_negative\n",
      "765  tested_negative\n",
      "766  tested_positive\n",
      "767  tested_negative\n",
      "\n",
      "[768 rows x 1 columns]\n"
     ]
    }
   ],
   "source": [
    "print(Y)"
   ]
  },
  {
   "cell_type": "code",
   "execution_count": 6,
   "id": "30b36a3f",
   "metadata": {},
   "outputs": [],
   "source": [
    "X_train, X_test, y_train, y_test= train_test_split(X, Y, test_size= 0.3, random_state = 123)"
   ]
  },
  {
   "cell_type": "code",
   "execution_count": 7,
   "id": "9d3be261",
   "metadata": {},
   "outputs": [
    {
     "name": "stdout",
     "output_type": "stream",
     "text": [
      "['tested_positive' 'tested_positive' 'tested_positive' 'tested_negative'\n",
      " 'tested_negative' 'tested_positive' 'tested_positive' 'tested_negative'\n",
      " 'tested_positive' 'tested_negative' 'tested_positive' 'tested_negative'\n",
      " 'tested_negative' 'tested_negative' 'tested_positive' 'tested_negative'\n",
      " 'tested_positive' 'tested_negative' 'tested_negative' 'tested_positive'\n",
      " 'tested_positive' 'tested_negative' 'tested_negative' 'tested_positive'\n",
      " 'tested_positive' 'tested_negative' 'tested_negative' 'tested_negative'\n",
      " 'tested_positive' 'tested_positive' 'tested_negative' 'tested_negative'\n",
      " 'tested_positive' 'tested_negative' 'tested_negative' 'tested_negative'\n",
      " 'tested_positive' 'tested_negative' 'tested_negative' 'tested_negative'\n",
      " 'tested_negative' 'tested_negative' 'tested_negative' 'tested_negative'\n",
      " 'tested_negative' 'tested_negative' 'tested_positive' 'tested_negative'\n",
      " 'tested_negative' 'tested_negative' 'tested_negative' 'tested_negative'\n",
      " 'tested_negative' 'tested_negative' 'tested_negative' 'tested_negative'\n",
      " 'tested_negative' 'tested_negative' 'tested_positive' 'tested_positive'\n",
      " 'tested_negative' 'tested_negative' 'tested_positive' 'tested_negative'\n",
      " 'tested_negative' 'tested_negative' 'tested_positive' 'tested_negative'\n",
      " 'tested_negative' 'tested_negative' 'tested_negative' 'tested_positive'\n",
      " 'tested_positive' 'tested_negative' 'tested_negative' 'tested_negative'\n",
      " 'tested_negative' 'tested_negative' 'tested_positive' 'tested_negative'\n",
      " 'tested_negative' 'tested_positive' 'tested_negative' 'tested_positive'\n",
      " 'tested_negative' 'tested_negative' 'tested_positive' 'tested_negative'\n",
      " 'tested_positive' 'tested_positive' 'tested_negative' 'tested_negative'\n",
      " 'tested_negative' 'tested_negative' 'tested_positive' 'tested_negative'\n",
      " 'tested_negative' 'tested_positive' 'tested_negative' 'tested_negative'\n",
      " 'tested_negative' 'tested_positive' 'tested_negative' 'tested_negative'\n",
      " 'tested_negative' 'tested_negative' 'tested_negative' 'tested_positive'\n",
      " 'tested_positive' 'tested_negative' 'tested_positive' 'tested_negative'\n",
      " 'tested_positive' 'tested_positive' 'tested_positive' 'tested_negative'\n",
      " 'tested_negative' 'tested_positive' 'tested_negative' 'tested_negative'\n",
      " 'tested_negative' 'tested_positive' 'tested_negative' 'tested_negative'\n",
      " 'tested_negative' 'tested_positive' 'tested_positive' 'tested_positive'\n",
      " 'tested_negative' 'tested_negative' 'tested_negative' 'tested_negative'\n",
      " 'tested_positive' 'tested_negative' 'tested_negative' 'tested_negative'\n",
      " 'tested_negative' 'tested_positive' 'tested_negative' 'tested_negative'\n",
      " 'tested_positive' 'tested_positive' 'tested_negative' 'tested_negative'\n",
      " 'tested_negative' 'tested_negative' 'tested_negative' 'tested_negative'\n",
      " 'tested_negative' 'tested_negative' 'tested_positive' 'tested_negative'\n",
      " 'tested_positive' 'tested_negative' 'tested_negative' 'tested_negative'\n",
      " 'tested_positive' 'tested_negative' 'tested_negative' 'tested_positive'\n",
      " 'tested_negative' 'tested_negative' 'tested_negative' 'tested_positive'\n",
      " 'tested_positive' 'tested_negative' 'tested_negative' 'tested_negative'\n",
      " 'tested_negative' 'tested_positive' 'tested_negative' 'tested_positive'\n",
      " 'tested_negative' 'tested_negative' 'tested_negative' 'tested_negative'\n",
      " 'tested_negative' 'tested_negative' 'tested_positive' 'tested_positive'\n",
      " 'tested_negative' 'tested_negative' 'tested_positive' 'tested_negative'\n",
      " 'tested_positive' 'tested_negative' 'tested_negative' 'tested_negative'\n",
      " 'tested_positive' 'tested_negative' 'tested_positive' 'tested_negative'\n",
      " 'tested_negative' 'tested_positive' 'tested_negative' 'tested_negative'\n",
      " 'tested_negative' 'tested_negative' 'tested_positive' 'tested_negative'\n",
      " 'tested_negative' 'tested_negative' 'tested_negative' 'tested_positive'\n",
      " 'tested_positive' 'tested_negative' 'tested_positive' 'tested_positive'\n",
      " 'tested_negative' 'tested_negative' 'tested_negative' 'tested_positive'\n",
      " 'tested_negative' 'tested_negative' 'tested_negative' 'tested_negative'\n",
      " 'tested_positive' 'tested_negative' 'tested_positive' 'tested_positive'\n",
      " 'tested_positive' 'tested_positive' 'tested_negative' 'tested_negative'\n",
      " 'tested_negative' 'tested_negative' 'tested_negative' 'tested_positive'\n",
      " 'tested_negative' 'tested_negative' 'tested_negative']\n"
     ]
    },
    {
     "name": "stderr",
     "output_type": "stream",
     "text": [
      "/home/parth/anaconda3/envs/tfenv/lib/python3.8/site-packages/sklearn/utils/validation.py:993: DataConversionWarning: A column-vector y was passed when a 1d array was expected. Please change the shape of y to (n_samples, ), for example using ravel().\n",
      "  y = column_or_1d(y, warn=True)\n"
     ]
    }
   ],
   "source": [
    "#Create naive bayes model\n",
    "nb=GaussianNB()\n",
    "\n",
    "nb.fit(X_train, y_train)\n",
    "predict= nb.predict(X_test)\n",
    "print(predict)"
   ]
  },
  {
   "cell_type": "code",
   "execution_count": 8,
   "id": "2c135f6d",
   "metadata": {},
   "outputs": [
    {
     "name": "stdout",
     "output_type": "stream",
     "text": [
      "GaussianNB accuracy :  0.7792207792207793\n"
     ]
    }
   ],
   "source": [
    "from sklearn.metrics import accuracy_score\n",
    "accuracy= accuracy_score(y_test,predict)\n",
    "print('GaussianNB accuracy : ', accuracy)\n"
   ]
  },
  {
   "cell_type": "markdown",
   "id": "5e610dd1",
   "metadata": {},
   "source": [
    "# Multinomial naive bayes"
   ]
  },
  {
   "cell_type": "code",
   "execution_count": 9,
   "id": "1d074ef4",
   "metadata": {},
   "outputs": [
    {
     "name": "stderr",
     "output_type": "stream",
     "text": [
      "/home/parth/anaconda3/envs/tfenv/lib/python3.8/site-packages/sklearn/utils/validation.py:993: DataConversionWarning: A column-vector y was passed when a 1d array was expected. Please change the shape of y to (n_samples, ), for example using ravel().\n",
      "  y = column_or_1d(y, warn=True)\n"
     ]
    },
    {
     "data": {
      "text/plain": [
       "MultinomialNB()"
      ]
     },
     "execution_count": 9,
     "metadata": {},
     "output_type": "execute_result"
    }
   ],
   "source": [
    "from sklearn.naive_bayes import MultinomialNB\n",
    "clf = MultinomialNB()\n",
    "clf.fit(X_train, y_train)"
   ]
  },
  {
   "cell_type": "code",
   "execution_count": 10,
   "id": "a6dcedb9",
   "metadata": {},
   "outputs": [
    {
     "name": "stdout",
     "output_type": "stream",
     "text": [
      "['tested_positive' 'tested_positive' 'tested_negative' 'tested_negative'\n",
      " 'tested_positive' 'tested_negative' 'tested_negative' 'tested_negative'\n",
      " 'tested_negative' 'tested_negative' 'tested_positive' 'tested_negative'\n",
      " 'tested_negative' 'tested_positive' 'tested_negative' 'tested_negative'\n",
      " 'tested_positive' 'tested_negative' 'tested_negative' 'tested_negative'\n",
      " 'tested_negative' 'tested_negative' 'tested_positive' 'tested_negative'\n",
      " 'tested_positive' 'tested_positive' 'tested_negative' 'tested_positive'\n",
      " 'tested_negative' 'tested_negative' 'tested_positive' 'tested_negative'\n",
      " 'tested_negative' 'tested_positive' 'tested_positive' 'tested_negative'\n",
      " 'tested_positive' 'tested_positive' 'tested_negative' 'tested_negative'\n",
      " 'tested_negative' 'tested_negative' 'tested_positive' 'tested_negative'\n",
      " 'tested_negative' 'tested_negative' 'tested_negative' 'tested_negative'\n",
      " 'tested_positive' 'tested_negative' 'tested_negative' 'tested_positive'\n",
      " 'tested_negative' 'tested_negative' 'tested_positive' 'tested_negative'\n",
      " 'tested_negative' 'tested_positive' 'tested_positive' 'tested_negative'\n",
      " 'tested_negative' 'tested_negative' 'tested_negative' 'tested_negative'\n",
      " 'tested_negative' 'tested_negative' 'tested_negative' 'tested_negative'\n",
      " 'tested_negative' 'tested_positive' 'tested_negative' 'tested_positive'\n",
      " 'tested_positive' 'tested_negative' 'tested_negative' 'tested_positive'\n",
      " 'tested_negative' 'tested_negative' 'tested_positive' 'tested_negative'\n",
      " 'tested_positive' 'tested_negative' 'tested_negative' 'tested_positive'\n",
      " 'tested_negative' 'tested_negative' 'tested_negative' 'tested_negative'\n",
      " 'tested_positive' 'tested_negative' 'tested_positive' 'tested_positive'\n",
      " 'tested_negative' 'tested_positive' 'tested_positive' 'tested_negative'\n",
      " 'tested_negative' 'tested_positive' 'tested_positive' 'tested_negative'\n",
      " 'tested_negative' 'tested_negative' 'tested_negative' 'tested_negative'\n",
      " 'tested_negative' 'tested_negative' 'tested_negative' 'tested_positive'\n",
      " 'tested_negative' 'tested_negative' 'tested_negative' 'tested_negative'\n",
      " 'tested_negative' 'tested_negative' 'tested_negative' 'tested_negative'\n",
      " 'tested_negative' 'tested_positive' 'tested_negative' 'tested_negative'\n",
      " 'tested_positive' 'tested_negative' 'tested_negative' 'tested_negative'\n",
      " 'tested_negative' 'tested_negative' 'tested_positive' 'tested_positive'\n",
      " 'tested_positive' 'tested_negative' 'tested_negative' 'tested_negative'\n",
      " 'tested_negative' 'tested_negative' 'tested_positive' 'tested_negative'\n",
      " 'tested_negative' 'tested_negative' 'tested_negative' 'tested_positive'\n",
      " 'tested_positive' 'tested_positive' 'tested_negative' 'tested_positive'\n",
      " 'tested_negative' 'tested_positive' 'tested_negative' 'tested_negative'\n",
      " 'tested_positive' 'tested_positive' 'tested_negative' 'tested_negative'\n",
      " 'tested_positive' 'tested_negative' 'tested_positive' 'tested_positive'\n",
      " 'tested_positive' 'tested_negative' 'tested_negative' 'tested_positive'\n",
      " 'tested_negative' 'tested_positive' 'tested_negative' 'tested_negative'\n",
      " 'tested_negative' 'tested_negative' 'tested_negative' 'tested_negative'\n",
      " 'tested_positive' 'tested_negative' 'tested_negative' 'tested_positive'\n",
      " 'tested_negative' 'tested_negative' 'tested_negative' 'tested_negative'\n",
      " 'tested_negative' 'tested_negative' 'tested_positive' 'tested_positive'\n",
      " 'tested_negative' 'tested_negative' 'tested_negative' 'tested_negative'\n",
      " 'tested_negative' 'tested_negative' 'tested_negative' 'tested_negative'\n",
      " 'tested_positive' 'tested_negative' 'tested_positive' 'tested_positive'\n",
      " 'tested_negative' 'tested_positive' 'tested_negative' 'tested_positive'\n",
      " 'tested_negative' 'tested_negative' 'tested_negative' 'tested_positive'\n",
      " 'tested_positive' 'tested_negative' 'tested_positive' 'tested_positive'\n",
      " 'tested_negative' 'tested_negative' 'tested_negative' 'tested_negative'\n",
      " 'tested_positive' 'tested_negative' 'tested_negative' 'tested_positive'\n",
      " 'tested_negative' 'tested_negative' 'tested_negative' 'tested_negative'\n",
      " 'tested_positive' 'tested_negative' 'tested_positive' 'tested_positive'\n",
      " 'tested_negative' 'tested_negative' 'tested_positive' 'tested_positive'\n",
      " 'tested_positive' 'tested_negative' 'tested_positive' 'tested_negative'\n",
      " 'tested_negative' 'tested_negative' 'tested_negative']\n"
     ]
    }
   ],
   "source": [
    "ypred= clf.predict(X_test)\n",
    "print(ypred)"
   ]
  },
  {
   "cell_type": "code",
   "execution_count": 11,
   "id": "9393f8d5",
   "metadata": {},
   "outputs": [
    {
     "name": "stdout",
     "output_type": "stream",
     "text": [
      "MultinomialNB accuracy :  0.5800865800865801\n"
     ]
    }
   ],
   "source": [
    "from sklearn.metrics import accuracy_score\n",
    "accuracy= accuracy_score(y_test,ypred)\n",
    "print('MultinomialNB accuracy : ', accuracy)"
   ]
  },
  {
   "cell_type": "markdown",
   "id": "784fe866",
   "metadata": {},
   "source": [
    "# Catagorical NB"
   ]
  },
  {
   "cell_type": "code",
   "execution_count": 12,
   "id": "dc9ee1fa",
   "metadata": {},
   "outputs": [
    {
     "name": "stdout",
     "output_type": "stream",
     "text": [
      "['tested_positive' 'tested_negative' 'tested_positive' 'tested_negative'\n",
      " 'tested_positive' 'tested_negative' 'tested_negative' 'tested_positive'\n",
      " 'tested_positive' 'tested_positive' 'tested_negative' 'tested_positive'\n",
      " 'tested_negative' 'tested_positive' 'tested_positive' 'tested_positive'\n",
      " 'tested_positive' 'tested_negative' 'tested_negative' 'tested_positive'\n",
      " 'tested_negative' 'tested_negative' 'tested_positive' 'tested_positive'\n",
      " 'tested_positive' 'tested_positive' 'tested_positive' 'tested_negative'\n",
      " 'tested_negative' 'tested_negative' 'tested_negative' 'tested_positive'\n",
      " 'tested_negative' 'tested_negative' 'tested_negative' 'tested_negative'\n",
      " 'tested_positive' 'tested_positive' 'tested_negative' 'tested_positive'\n",
      " 'tested_negative' 'tested_negative' 'tested_negative' 'tested_positive'\n",
      " 'tested_negative' 'tested_positive' 'tested_negative' 'tested_negative'\n",
      " 'tested_negative' 'tested_negative' 'tested_negative' 'tested_negative'\n",
      " 'tested_negative' 'tested_positive' 'tested_positive' 'tested_negative'\n",
      " 'tested_positive' 'tested_negative' 'tested_positive' 'tested_negative'\n",
      " 'tested_negative' 'tested_negative' 'tested_negative' 'tested_negative'\n",
      " 'tested_negative' 'tested_negative' 'tested_positive' 'tested_positive'\n",
      " 'tested_negative' 'tested_negative' 'tested_negative' 'tested_negative'\n",
      " 'tested_positive' 'tested_negative' 'tested_negative' 'tested_negative'\n",
      " 'tested_positive' 'tested_negative' 'tested_positive' 'tested_negative'\n",
      " 'tested_negative' 'tested_negative' 'tested_negative' 'tested_negative'\n",
      " 'tested_positive' 'tested_negative' 'tested_negative' 'tested_negative'\n",
      " 'tested_positive' 'tested_negative' 'tested_negative' 'tested_negative'\n",
      " 'tested_negative' 'tested_negative' 'tested_negative' 'tested_negative'\n",
      " 'tested_negative' 'tested_negative' 'tested_negative' 'tested_positive'\n",
      " 'tested_positive' 'tested_negative' 'tested_negative' 'tested_negative'\n",
      " 'tested_negative' 'tested_negative' 'tested_negative' 'tested_negative'\n",
      " 'tested_negative' 'tested_negative' 'tested_positive' 'tested_positive'\n",
      " 'tested_negative' 'tested_negative' 'tested_positive' 'tested_positive'\n",
      " 'tested_positive' 'tested_negative' 'tested_negative' 'tested_negative'\n",
      " 'tested_positive' 'tested_negative' 'tested_negative' 'tested_negative'\n",
      " 'tested_negative' 'tested_positive' 'tested_negative' 'tested_negative'\n",
      " 'tested_negative' 'tested_negative' 'tested_positive' 'tested_positive'\n",
      " 'tested_positive' 'tested_negative' 'tested_negative' 'tested_negative'\n",
      " 'tested_negative' 'tested_negative' 'tested_negative' 'tested_negative'\n",
      " 'tested_negative' 'tested_negative' 'tested_negative' 'tested_negative'\n",
      " 'tested_negative' 'tested_negative' 'tested_positive' 'tested_negative'\n",
      " 'tested_negative' 'tested_negative' 'tested_negative' 'tested_negative'\n",
      " 'tested_positive' 'tested_negative' 'tested_positive' 'tested_positive'\n",
      " 'tested_negative' 'tested_negative' 'tested_negative' 'tested_positive'\n",
      " 'tested_positive' 'tested_negative' 'tested_negative' 'tested_negative'\n",
      " 'tested_positive' 'tested_positive' 'tested_negative' 'tested_negative'\n",
      " 'tested_negative' 'tested_negative' 'tested_positive' 'tested_positive'\n",
      " 'tested_negative' 'tested_negative' 'tested_negative' 'tested_positive'\n",
      " 'tested_negative' 'tested_positive' 'tested_positive' 'tested_negative'\n",
      " 'tested_negative' 'tested_negative' 'tested_negative' 'tested_negative'\n",
      " 'tested_negative' 'tested_positive' 'tested_positive' 'tested_positive'\n",
      " 'tested_positive' 'tested_negative' 'tested_negative' 'tested_negative'\n",
      " 'tested_positive' 'tested_positive' 'tested_negative' 'tested_positive'\n",
      " 'tested_negative' 'tested_negative' 'tested_positive' 'tested_positive'\n",
      " 'tested_negative' 'tested_negative' 'tested_negative' 'tested_negative'\n",
      " 'tested_negative' 'tested_negative' 'tested_positive' 'tested_positive'\n",
      " 'tested_negative' 'tested_positive' 'tested_negative' 'tested_negative'\n",
      " 'tested_positive' 'tested_negative' 'tested_positive' 'tested_positive'\n",
      " 'tested_positive' 'tested_negative' 'tested_negative' 'tested_positive'\n",
      " 'tested_positive' 'tested_positive' 'tested_negative' 'tested_negative'\n",
      " 'tested_negative' 'tested_negative' 'tested_negative' 'tested_negative'\n",
      " 'tested_positive' 'tested_negative' 'tested_negative' 'tested_positive'\n",
      " 'tested_negative' 'tested_negative' 'tested_negative' 'tested_positive'\n",
      " 'tested_positive' 'tested_negative' 'tested_positive' 'tested_negative'\n",
      " 'tested_negative' 'tested_negative' 'tested_negative' 'tested_negative'\n",
      " 'tested_positive' 'tested_positive' 'tested_negative' 'tested_negative'\n",
      " 'tested_positive' 'tested_negative' 'tested_negative' 'tested_negative'\n",
      " 'tested_negative' 'tested_negative' 'tested_positive' 'tested_negative'\n",
      " 'tested_negative' 'tested_negative' 'tested_negative' 'tested_positive'\n",
      " 'tested_negative' 'tested_negative' 'tested_negative' 'tested_negative'\n",
      " 'tested_negative' 'tested_negative' 'tested_negative' 'tested_negative'\n",
      " 'tested_negative' 'tested_negative' 'tested_positive' 'tested_negative'\n",
      " 'tested_negative' 'tested_negative' 'tested_positive' 'tested_negative'\n",
      " 'tested_negative' 'tested_negative' 'tested_negative' 'tested_negative'\n",
      " 'tested_negative' 'tested_negative' 'tested_negative' 'tested_positive'\n",
      " 'tested_negative' 'tested_negative' 'tested_positive' 'tested_positive'\n",
      " 'tested_negative' 'tested_negative' 'tested_negative' 'tested_negative'\n",
      " 'tested_positive' 'tested_negative' 'tested_negative' 'tested_negative'\n",
      " 'tested_negative' 'tested_negative' 'tested_positive' 'tested_negative'\n",
      " 'tested_positive' 'tested_negative' 'tested_negative' 'tested_positive'\n",
      " 'tested_negative' 'tested_negative' 'tested_negative' 'tested_negative'\n",
      " 'tested_negative' 'tested_negative' 'tested_negative' 'tested_negative'\n",
      " 'tested_negative' 'tested_negative' 'tested_positive' 'tested_negative'\n",
      " 'tested_negative' 'tested_positive' 'tested_negative' 'tested_negative'\n",
      " 'tested_negative' 'tested_negative' 'tested_negative' 'tested_positive'\n",
      " 'tested_negative' 'tested_negative' 'tested_negative' 'tested_negative'\n",
      " 'tested_negative' 'tested_negative' 'tested_negative' 'tested_negative'\n",
      " 'tested_positive' 'tested_negative' 'tested_negative' 'tested_negative'\n",
      " 'tested_negative' 'tested_positive' 'tested_positive' 'tested_positive'\n",
      " 'tested_negative' 'tested_negative' 'tested_negative' 'tested_negative'\n",
      " 'tested_negative' 'tested_positive' 'tested_negative' 'tested_negative'\n",
      " 'tested_negative' 'tested_negative' 'tested_negative' 'tested_negative'\n",
      " 'tested_negative' 'tested_negative' 'tested_negative' 'tested_positive'\n",
      " 'tested_negative' 'tested_positive' 'tested_negative' 'tested_positive'\n",
      " 'tested_positive' 'tested_negative' 'tested_negative' 'tested_negative'\n",
      " 'tested_negative' 'tested_negative' 'tested_negative' 'tested_negative'\n",
      " 'tested_negative' 'tested_negative' 'tested_positive' 'tested_negative'\n",
      " 'tested_negative' 'tested_negative' 'tested_negative' 'tested_positive'\n",
      " 'tested_negative' 'tested_negative' 'tested_positive' 'tested_positive'\n",
      " 'tested_negative' 'tested_negative' 'tested_negative' 'tested_negative'\n",
      " 'tested_negative' 'tested_negative' 'tested_negative' 'tested_positive'\n",
      " 'tested_positive' 'tested_negative' 'tested_negative' 'tested_positive'\n",
      " 'tested_negative' 'tested_negative' 'tested_positive' 'tested_negative'\n",
      " 'tested_negative' 'tested_negative' 'tested_negative' 'tested_negative'\n",
      " 'tested_negative' 'tested_negative' 'tested_positive' 'tested_positive'\n",
      " 'tested_positive' 'tested_negative' 'tested_negative' 'tested_negative'\n",
      " 'tested_positive' 'tested_positive' 'tested_negative' 'tested_negative'\n",
      " 'tested_negative' 'tested_negative' 'tested_negative' 'tested_positive'\n",
      " 'tested_negative' 'tested_negative' 'tested_negative' 'tested_negative'\n",
      " 'tested_negative' 'tested_negative' 'tested_negative' 'tested_negative'\n",
      " 'tested_positive' 'tested_positive' 'tested_negative' 'tested_positive'\n",
      " 'tested_positive' 'tested_positive' 'tested_negative' 'tested_negative'\n",
      " 'tested_negative' 'tested_negative' 'tested_negative' 'tested_positive'\n",
      " 'tested_positive' 'tested_negative' 'tested_negative' 'tested_negative'\n",
      " 'tested_positive' 'tested_negative' 'tested_negative' 'tested_positive'\n",
      " 'tested_negative' 'tested_positive' 'tested_negative' 'tested_negative'\n",
      " 'tested_negative' 'tested_negative' 'tested_negative' 'tested_negative'\n",
      " 'tested_negative' 'tested_negative' 'tested_negative' 'tested_positive'\n",
      " 'tested_negative' 'tested_negative' 'tested_positive' 'tested_negative'\n",
      " 'tested_negative' 'tested_negative' 'tested_negative' 'tested_negative'\n",
      " 'tested_negative' 'tested_negative' 'tested_negative' 'tested_negative'\n",
      " 'tested_positive' 'tested_negative' 'tested_negative' 'tested_negative'\n",
      " 'tested_negative' 'tested_positive' 'tested_negative' 'tested_negative'\n",
      " 'tested_negative' 'tested_negative' 'tested_negative' 'tested_negative'\n",
      " 'tested_positive' 'tested_negative' 'tested_negative' 'tested_negative'\n",
      " 'tested_positive' 'tested_positive' 'tested_negative' 'tested_positive'\n",
      " 'tested_negative' 'tested_negative' 'tested_negative' 'tested_negative'\n",
      " 'tested_negative' 'tested_positive' 'tested_negative' 'tested_negative'\n",
      " 'tested_negative' 'tested_negative' 'tested_positive' 'tested_negative'\n",
      " 'tested_negative' 'tested_negative' 'tested_negative' 'tested_negative'\n",
      " 'tested_negative' 'tested_negative' 'tested_positive' 'tested_negative'\n",
      " 'tested_negative' 'tested_negative' 'tested_negative' 'tested_negative'\n",
      " 'tested_negative' 'tested_negative' 'tested_negative' 'tested_negative'\n",
      " 'tested_positive' 'tested_positive' 'tested_negative' 'tested_negative'\n",
      " 'tested_negative' 'tested_negative' 'tested_negative' 'tested_positive'\n",
      " 'tested_negative' 'tested_negative' 'tested_negative' 'tested_negative'\n",
      " 'tested_negative' 'tested_negative' 'tested_negative' 'tested_negative'\n",
      " 'tested_negative' 'tested_negative' 'tested_negative' 'tested_negative'\n",
      " 'tested_negative' 'tested_negative' 'tested_negative' 'tested_positive'\n",
      " 'tested_positive' 'tested_negative' 'tested_positive' 'tested_negative'\n",
      " 'tested_negative' 'tested_positive' 'tested_positive' 'tested_negative'\n",
      " 'tested_positive' 'tested_positive' 'tested_negative' 'tested_negative'\n",
      " 'tested_negative' 'tested_negative' 'tested_negative' 'tested_negative'\n",
      " 'tested_negative' 'tested_negative' 'tested_negative' 'tested_negative'\n",
      " 'tested_positive' 'tested_positive' 'tested_negative' 'tested_negative'\n",
      " 'tested_negative' 'tested_negative' 'tested_negative' 'tested_negative'\n",
      " 'tested_negative' 'tested_positive' 'tested_negative' 'tested_negative'\n",
      " 'tested_negative' 'tested_negative' 'tested_negative' 'tested_negative'\n",
      " 'tested_negative' 'tested_negative' 'tested_negative' 'tested_positive'\n",
      " 'tested_negative' 'tested_negative' 'tested_negative' 'tested_negative'\n",
      " 'tested_positive' 'tested_negative' 'tested_positive' 'tested_negative'\n",
      " 'tested_positive' 'tested_negative' 'tested_positive' 'tested_negative'\n",
      " 'tested_positive' 'tested_negative' 'tested_negative' 'tested_positive'\n",
      " 'tested_positive' 'tested_negative' 'tested_positive' 'tested_negative'\n",
      " 'tested_negative' 'tested_negative' 'tested_negative' 'tested_positive'\n",
      " 'tested_positive' 'tested_negative' 'tested_positive' 'tested_negative'\n",
      " 'tested_positive' 'tested_negative' 'tested_negative' 'tested_positive'\n",
      " 'tested_positive' 'tested_negative' 'tested_positive' 'tested_negative'\n",
      " 'tested_negative' 'tested_negative' 'tested_positive' 'tested_negative'\n",
      " 'tested_negative' 'tested_negative' 'tested_positive' 'tested_negative'\n",
      " 'tested_negative' 'tested_negative' 'tested_negative' 'tested_negative'\n",
      " 'tested_positive' 'tested_negative' 'tested_negative' 'tested_negative'\n",
      " 'tested_negative' 'tested_negative' 'tested_negative' 'tested_positive'\n",
      " 'tested_negative' 'tested_negative' 'tested_positive' 'tested_negative'\n",
      " 'tested_negative' 'tested_negative' 'tested_negative' 'tested_negative'\n",
      " 'tested_negative' 'tested_negative' 'tested_positive' 'tested_positive'\n",
      " 'tested_positive' 'tested_negative' 'tested_negative' 'tested_negative'\n",
      " 'tested_negative' 'tested_negative' 'tested_negative' 'tested_negative'\n",
      " 'tested_negative' 'tested_negative' 'tested_negative' 'tested_negative'\n",
      " 'tested_positive' 'tested_positive' 'tested_positive' 'tested_positive'\n",
      " 'tested_negative' 'tested_negative' 'tested_positive' 'tested_negative'\n",
      " 'tested_negative' 'tested_negative' 'tested_negative' 'tested_negative'\n",
      " 'tested_negative' 'tested_negative' 'tested_negative' 'tested_positive'\n",
      " 'tested_positive' 'tested_negative' 'tested_negative' 'tested_negative'\n",
      " 'tested_negative' 'tested_positive' 'tested_negative' 'tested_negative'\n",
      " 'tested_negative' 'tested_negative' 'tested_negative' 'tested_negative'\n",
      " 'tested_negative' 'tested_positive' 'tested_negative' 'tested_positive'\n",
      " 'tested_negative' 'tested_positive' 'tested_negative' 'tested_positive'\n",
      " 'tested_negative' 'tested_negative' 'tested_negative' 'tested_negative'\n",
      " 'tested_negative' 'tested_negative' 'tested_positive' 'tested_negative'\n",
      " 'tested_negative' 'tested_negative' 'tested_negative' 'tested_negative'\n",
      " 'tested_positive' 'tested_negative' 'tested_negative' 'tested_negative'\n",
      " 'tested_positive' 'tested_negative' 'tested_negative' 'tested_positive'\n",
      " 'tested_positive' 'tested_negative' 'tested_negative' 'tested_positive'\n",
      " 'tested_negative' 'tested_negative' 'tested_positive' 'tested_negative'\n",
      " 'tested_negative' 'tested_negative' 'tested_negative' 'tested_negative'\n",
      " 'tested_negative' 'tested_negative' 'tested_negative' 'tested_negative'\n",
      " 'tested_negative' 'tested_negative' 'tested_negative' 'tested_negative'\n",
      " 'tested_negative' 'tested_negative' 'tested_negative' 'tested_negative'\n",
      " 'tested_positive' 'tested_negative' 'tested_negative' 'tested_positive'\n",
      " 'tested_negative' 'tested_negative' 'tested_positive' 'tested_negative'\n",
      " 'tested_positive' 'tested_negative' 'tested_negative' 'tested_negative'\n",
      " 'tested_negative' 'tested_positive' 'tested_positive' 'tested_positive'\n",
      " 'tested_positive' 'tested_positive' 'tested_negative' 'tested_positive'\n",
      " 'tested_negative' 'tested_positive' 'tested_negative' 'tested_negative'\n",
      " 'tested_negative' 'tested_negative' 'tested_negative' 'tested_negative']\n"
     ]
    },
    {
     "name": "stderr",
     "output_type": "stream",
     "text": [
      "/home/parth/anaconda3/envs/tfenv/lib/python3.8/site-packages/sklearn/utils/validation.py:993: DataConversionWarning: A column-vector y was passed when a 1d array was expected. Please change the shape of y to (n_samples, ), for example using ravel().\n",
      "  y = column_or_1d(y, warn=True)\n"
     ]
    }
   ],
   "source": [
    "from sklearn.naive_bayes import CategoricalNB\n",
    "clf = CategoricalNB()\n",
    "clf.fit(X,Y)\n",
    "ypred= clf.predict(X)\n",
    "print(ypred)\n"
   ]
  },
  {
   "cell_type": "code",
   "execution_count": 13,
   "id": "b3e68c10",
   "metadata": {},
   "outputs": [
    {
     "name": "stdout",
     "output_type": "stream",
     "text": [
      "Catagorical NB accuracy :  0.8450520833333334\n"
     ]
    }
   ],
   "source": [
    "from sklearn.metrics import accuracy_score\n",
    "accuracy= accuracy_score(Y,ypred)\n",
    "print('Catagorical NB accuracy : ', accuracy)"
   ]
  },
  {
   "cell_type": "markdown",
   "id": "10446a53",
   "metadata": {},
   "source": [
    "# Bernoulli NB"
   ]
  },
  {
   "cell_type": "code",
   "execution_count": 14,
   "id": "40271206",
   "metadata": {},
   "outputs": [
    {
     "name": "stdout",
     "output_type": "stream",
     "text": [
      "['tested_negative' 'tested_negative' 'tested_negative' 'tested_negative'\n",
      " 'tested_negative' 'tested_negative' 'tested_negative' 'tested_positive'\n",
      " 'tested_negative' 'tested_negative' 'tested_negative' 'tested_negative'\n",
      " 'tested_negative' 'tested_negative' 'tested_negative' 'tested_positive'\n",
      " 'tested_negative' 'tested_negative' 'tested_negative' 'tested_negative'\n",
      " 'tested_negative' 'tested_negative' 'tested_negative' 'tested_negative'\n",
      " 'tested_negative' 'tested_negative' 'tested_negative' 'tested_negative'\n",
      " 'tested_negative' 'tested_negative' 'tested_negative' 'tested_negative'\n",
      " 'tested_negative' 'tested_negative' 'tested_negative' 'tested_negative'\n",
      " 'tested_negative' 'tested_negative' 'tested_negative' 'tested_negative'\n",
      " 'tested_negative' 'tested_negative' 'tested_negative' 'tested_negative'\n",
      " 'tested_negative' 'tested_negative' 'tested_negative' 'tested_negative'\n",
      " 'tested_negative' 'tested_negative' 'tested_negative' 'tested_negative'\n",
      " 'tested_negative' 'tested_negative' 'tested_negative' 'tested_negative'\n",
      " 'tested_negative' 'tested_negative' 'tested_negative' 'tested_negative'\n",
      " 'tested_negative' 'tested_negative' 'tested_negative' 'tested_negative'\n",
      " 'tested_negative' 'tested_negative' 'tested_negative' 'tested_negative'\n",
      " 'tested_negative' 'tested_negative' 'tested_negative' 'tested_negative'\n",
      " 'tested_negative' 'tested_negative' 'tested_negative' 'tested_negative'\n",
      " 'tested_negative' 'tested_negative' 'tested_positive' 'tested_negative'\n",
      " 'tested_negative' 'tested_negative' 'tested_negative' 'tested_negative'\n",
      " 'tested_negative' 'tested_negative' 'tested_negative' 'tested_negative'\n",
      " 'tested_negative' 'tested_negative' 'tested_negative' 'tested_negative'\n",
      " 'tested_negative' 'tested_negative' 'tested_negative' 'tested_negative'\n",
      " 'tested_negative' 'tested_negative' 'tested_negative' 'tested_negative'\n",
      " 'tested_negative' 'tested_negative' 'tested_negative' 'tested_negative'\n",
      " 'tested_negative' 'tested_negative' 'tested_negative' 'tested_negative'\n",
      " 'tested_negative' 'tested_negative' 'tested_negative' 'tested_negative'\n",
      " 'tested_negative' 'tested_negative' 'tested_negative' 'tested_negative'\n",
      " 'tested_negative' 'tested_negative' 'tested_negative' 'tested_negative'\n",
      " 'tested_negative' 'tested_negative' 'tested_negative' 'tested_negative'\n",
      " 'tested_negative' 'tested_negative' 'tested_negative' 'tested_negative'\n",
      " 'tested_negative' 'tested_negative' 'tested_negative' 'tested_negative'\n",
      " 'tested_negative' 'tested_negative' 'tested_negative' 'tested_negative'\n",
      " 'tested_negative' 'tested_negative' 'tested_negative' 'tested_negative'\n",
      " 'tested_negative' 'tested_negative' 'tested_negative' 'tested_negative'\n",
      " 'tested_negative' 'tested_negative' 'tested_negative' 'tested_negative'\n",
      " 'tested_negative' 'tested_negative' 'tested_negative' 'tested_negative'\n",
      " 'tested_negative' 'tested_negative' 'tested_negative' 'tested_negative'\n",
      " 'tested_negative' 'tested_negative' 'tested_negative' 'tested_negative'\n",
      " 'tested_negative' 'tested_negative' 'tested_negative' 'tested_negative'\n",
      " 'tested_negative' 'tested_negative' 'tested_negative' 'tested_negative'\n",
      " 'tested_negative' 'tested_negative' 'tested_negative' 'tested_negative'\n",
      " 'tested_negative' 'tested_negative' 'tested_negative' 'tested_negative'\n",
      " 'tested_negative' 'tested_negative' 'tested_negative' 'tested_negative'\n",
      " 'tested_negative' 'tested_negative' 'tested_negative' 'tested_negative'\n",
      " 'tested_negative' 'tested_negative' 'tested_negative' 'tested_negative'\n",
      " 'tested_negative' 'tested_negative' 'tested_negative' 'tested_negative'\n",
      " 'tested_negative' 'tested_positive' 'tested_negative' 'tested_negative'\n",
      " 'tested_negative' 'tested_negative' 'tested_negative' 'tested_negative'\n",
      " 'tested_negative' 'tested_negative' 'tested_negative' 'tested_negative'\n",
      " 'tested_negative' 'tested_negative' 'tested_negative' 'tested_negative'\n",
      " 'tested_negative' 'tested_negative' 'tested_negative' 'tested_negative'\n",
      " 'tested_negative' 'tested_negative' 'tested_negative' 'tested_negative'\n",
      " 'tested_negative' 'tested_negative' 'tested_negative' 'tested_negative'\n",
      " 'tested_negative' 'tested_negative' 'tested_positive' 'tested_negative'\n",
      " 'tested_negative' 'tested_negative' 'tested_negative' 'tested_negative'\n",
      " 'tested_negative' 'tested_negative' 'tested_negative' 'tested_negative'\n",
      " 'tested_negative' 'tested_negative' 'tested_negative' 'tested_negative'\n",
      " 'tested_negative' 'tested_negative' 'tested_negative' 'tested_negative'\n",
      " 'tested_negative' 'tested_negative' 'tested_negative' 'tested_negative'\n",
      " 'tested_negative' 'tested_negative' 'tested_negative' 'tested_negative'\n",
      " 'tested_negative' 'tested_negative' 'tested_negative' 'tested_negative'\n",
      " 'tested_negative' 'tested_negative' 'tested_negative' 'tested_negative'\n",
      " 'tested_negative' 'tested_negative' 'tested_negative' 'tested_negative'\n",
      " 'tested_negative' 'tested_positive' 'tested_negative' 'tested_negative'\n",
      " 'tested_negative' 'tested_negative' 'tested_positive' 'tested_negative'\n",
      " 'tested_negative' 'tested_positive' 'tested_negative' 'tested_negative'\n",
      " 'tested_negative' 'tested_negative' 'tested_negative' 'tested_negative'\n",
      " 'tested_negative' 'tested_negative' 'tested_negative' 'tested_negative'\n",
      " 'tested_negative' 'tested_negative' 'tested_negative' 'tested_negative'\n",
      " 'tested_negative' 'tested_negative' 'tested_negative' 'tested_negative'\n",
      " 'tested_negative' 'tested_negative' 'tested_negative' 'tested_negative'\n",
      " 'tested_negative' 'tested_negative' 'tested_negative' 'tested_negative'\n",
      " 'tested_negative' 'tested_negative' 'tested_negative' 'tested_negative'\n",
      " 'tested_positive' 'tested_negative' 'tested_negative' 'tested_negative'\n",
      " 'tested_negative' 'tested_negative' 'tested_negative' 'tested_negative'\n",
      " 'tested_negative' 'tested_negative' 'tested_negative' 'tested_negative'\n",
      " 'tested_negative' 'tested_negative' 'tested_negative' 'tested_negative'\n",
      " 'tested_negative' 'tested_negative' 'tested_negative' 'tested_negative'\n",
      " 'tested_negative' 'tested_negative' 'tested_negative' 'tested_negative'\n",
      " 'tested_negative' 'tested_negative' 'tested_negative' 'tested_negative'\n",
      " 'tested_negative' 'tested_negative' 'tested_negative' 'tested_negative'\n",
      " 'tested_positive' 'tested_negative' 'tested_negative' 'tested_negative'\n",
      " 'tested_positive' 'tested_negative' 'tested_negative' 'tested_negative'\n",
      " 'tested_negative' 'tested_negative' 'tested_negative' 'tested_negative'\n",
      " 'tested_negative' 'tested_negative' 'tested_negative' 'tested_positive'\n",
      " 'tested_negative' 'tested_negative' 'tested_negative' 'tested_negative'\n",
      " 'tested_negative' 'tested_negative' 'tested_negative' 'tested_negative'\n",
      " 'tested_negative' 'tested_negative' 'tested_negative' 'tested_negative'\n",
      " 'tested_negative' 'tested_negative' 'tested_negative' 'tested_negative'\n",
      " 'tested_negative' 'tested_negative' 'tested_negative' 'tested_negative'\n",
      " 'tested_negative' 'tested_negative' 'tested_negative' 'tested_negative'\n",
      " 'tested_negative' 'tested_negative' 'tested_negative' 'tested_negative'\n",
      " 'tested_negative' 'tested_negative' 'tested_negative' 'tested_negative'\n",
      " 'tested_negative' 'tested_negative' 'tested_negative' 'tested_negative'\n",
      " 'tested_negative' 'tested_negative' 'tested_negative' 'tested_negative'\n",
      " 'tested_negative' 'tested_negative' 'tested_negative' 'tested_negative'\n",
      " 'tested_negative' 'tested_negative' 'tested_negative' 'tested_negative'\n",
      " 'tested_negative' 'tested_negative' 'tested_negative' 'tested_negative'\n",
      " 'tested_negative' 'tested_negative' 'tested_negative' 'tested_negative'\n",
      " 'tested_negative' 'tested_negative' 'tested_negative' 'tested_negative'\n",
      " 'tested_negative' 'tested_negative' 'tested_negative' 'tested_negative'\n",
      " 'tested_negative' 'tested_negative' 'tested_negative' 'tested_negative'\n",
      " 'tested_negative' 'tested_negative' 'tested_negative' 'tested_negative'\n",
      " 'tested_negative' 'tested_negative' 'tested_negative' 'tested_negative'\n",
      " 'tested_negative' 'tested_negative' 'tested_negative' 'tested_negative'\n",
      " 'tested_negative' 'tested_negative' 'tested_positive' 'tested_negative'\n",
      " 'tested_negative' 'tested_negative' 'tested_negative' 'tested_positive'\n",
      " 'tested_negative' 'tested_negative' 'tested_negative' 'tested_negative'\n",
      " 'tested_negative' 'tested_negative' 'tested_negative' 'tested_negative'\n",
      " 'tested_negative' 'tested_negative' 'tested_negative' 'tested_negative'\n",
      " 'tested_negative' 'tested_negative' 'tested_negative' 'tested_negative'\n",
      " 'tested_negative' 'tested_positive' 'tested_negative' 'tested_negative'\n",
      " 'tested_negative' 'tested_negative' 'tested_negative' 'tested_negative'\n",
      " 'tested_negative' 'tested_negative' 'tested_negative' 'tested_negative'\n",
      " 'tested_negative' 'tested_negative' 'tested_negative' 'tested_negative'\n",
      " 'tested_positive' 'tested_negative' 'tested_negative' 'tested_negative'\n",
      " 'tested_negative' 'tested_negative' 'tested_negative' 'tested_negative'\n",
      " 'tested_negative' 'tested_negative' 'tested_negative' 'tested_negative'\n",
      " 'tested_negative' 'tested_negative' 'tested_negative' 'tested_negative'\n",
      " 'tested_positive' 'tested_negative' 'tested_negative' 'tested_negative'\n",
      " 'tested_negative' 'tested_negative' 'tested_negative' 'tested_negative'\n",
      " 'tested_negative' 'tested_negative' 'tested_negative' 'tested_negative'\n",
      " 'tested_negative' 'tested_negative' 'tested_negative' 'tested_negative'\n",
      " 'tested_negative' 'tested_negative' 'tested_negative' 'tested_negative'\n",
      " 'tested_negative' 'tested_negative' 'tested_negative' 'tested_negative'\n",
      " 'tested_negative' 'tested_negative' 'tested_negative' 'tested_negative'\n",
      " 'tested_negative' 'tested_negative' 'tested_negative' 'tested_negative'\n",
      " 'tested_negative' 'tested_negative' 'tested_negative' 'tested_negative'\n",
      " 'tested_negative' 'tested_negative' 'tested_negative' 'tested_negative'\n",
      " 'tested_negative' 'tested_negative' 'tested_negative' 'tested_negative'\n",
      " 'tested_negative' 'tested_negative' 'tested_negative' 'tested_negative'\n",
      " 'tested_negative' 'tested_positive' 'tested_negative' 'tested_positive'\n",
      " 'tested_negative' 'tested_negative' 'tested_negative' 'tested_negative'\n",
      " 'tested_negative' 'tested_negative' 'tested_negative' 'tested_negative'\n",
      " 'tested_negative' 'tested_negative' 'tested_negative' 'tested_negative'\n",
      " 'tested_negative' 'tested_negative' 'tested_negative' 'tested_negative'\n",
      " 'tested_negative' 'tested_negative' 'tested_negative' 'tested_negative'\n",
      " 'tested_negative' 'tested_negative' 'tested_negative' 'tested_negative'\n",
      " 'tested_negative' 'tested_negative' 'tested_negative' 'tested_negative'\n",
      " 'tested_negative' 'tested_negative' 'tested_negative' 'tested_negative'\n",
      " 'tested_negative' 'tested_negative' 'tested_negative' 'tested_negative'\n",
      " 'tested_negative' 'tested_negative' 'tested_negative' 'tested_negative'\n",
      " 'tested_negative' 'tested_negative' 'tested_negative' 'tested_negative'\n",
      " 'tested_negative' 'tested_negative' 'tested_negative' 'tested_negative'\n",
      " 'tested_negative' 'tested_negative' 'tested_negative' 'tested_negative'\n",
      " 'tested_negative' 'tested_positive' 'tested_negative' 'tested_negative'\n",
      " 'tested_negative' 'tested_negative' 'tested_negative' 'tested_negative'\n",
      " 'tested_negative' 'tested_negative' 'tested_negative' 'tested_negative'\n",
      " 'tested_negative' 'tested_positive' 'tested_negative' 'tested_negative'\n",
      " 'tested_positive' 'tested_negative' 'tested_negative' 'tested_negative'\n",
      " 'tested_negative' 'tested_negative' 'tested_negative' 'tested_negative'\n",
      " 'tested_negative' 'tested_negative' 'tested_negative' 'tested_negative'\n",
      " 'tested_negative' 'tested_negative' 'tested_negative' 'tested_positive'\n",
      " 'tested_negative' 'tested_negative' 'tested_negative' 'tested_negative'\n",
      " 'tested_negative' 'tested_negative' 'tested_negative' 'tested_negative'\n",
      " 'tested_negative' 'tested_negative' 'tested_negative' 'tested_negative'\n",
      " 'tested_negative' 'tested_negative' 'tested_negative' 'tested_negative'\n",
      " 'tested_negative' 'tested_negative' 'tested_negative' 'tested_negative'\n",
      " 'tested_negative' 'tested_negative' 'tested_negative' 'tested_positive'\n",
      " 'tested_negative' 'tested_negative' 'tested_negative' 'tested_negative'\n",
      " 'tested_negative' 'tested_negative' 'tested_negative' 'tested_negative'\n",
      " 'tested_negative' 'tested_negative' 'tested_negative' 'tested_negative'\n",
      " 'tested_negative' 'tested_negative' 'tested_negative' 'tested_negative'\n",
      " 'tested_negative' 'tested_negative' 'tested_negative' 'tested_negative'\n",
      " 'tested_negative' 'tested_negative' 'tested_negative' 'tested_negative'\n",
      " 'tested_negative' 'tested_negative' 'tested_negative' 'tested_negative'\n",
      " 'tested_negative' 'tested_negative' 'tested_negative' 'tested_negative'\n",
      " 'tested_negative' 'tested_negative' 'tested_negative' 'tested_negative'\n",
      " 'tested_negative' 'tested_negative' 'tested_negative' 'tested_negative'\n",
      " 'tested_negative' 'tested_negative' 'tested_negative' 'tested_negative'\n",
      " 'tested_negative' 'tested_negative' 'tested_negative' 'tested_negative'\n",
      " 'tested_negative' 'tested_negative' 'tested_negative' 'tested_negative'\n",
      " 'tested_negative' 'tested_positive' 'tested_negative' 'tested_negative'\n",
      " 'tested_negative' 'tested_negative' 'tested_negative' 'tested_positive'\n",
      " 'tested_negative' 'tested_negative' 'tested_negative' 'tested_negative'\n",
      " 'tested_negative' 'tested_negative' 'tested_negative' 'tested_negative'\n",
      " 'tested_negative' 'tested_negative' 'tested_negative' 'tested_negative'\n",
      " 'tested_negative' 'tested_negative' 'tested_negative' 'tested_negative'\n",
      " 'tested_negative' 'tested_negative' 'tested_negative' 'tested_negative'\n",
      " 'tested_negative' 'tested_negative' 'tested_negative' 'tested_negative'\n",
      " 'tested_negative' 'tested_negative' 'tested_negative' 'tested_negative'\n",
      " 'tested_negative' 'tested_negative' 'tested_negative' 'tested_negative'\n",
      " 'tested_negative' 'tested_negative' 'tested_negative' 'tested_negative'\n",
      " 'tested_negative' 'tested_negative' 'tested_negative' 'tested_negative'\n",
      " 'tested_negative' 'tested_negative' 'tested_negative' 'tested_negative'\n",
      " 'tested_negative' 'tested_negative' 'tested_negative' 'tested_negative'\n",
      " 'tested_negative' 'tested_negative' 'tested_negative' 'tested_negative'\n",
      " 'tested_negative' 'tested_negative' 'tested_negative' 'tested_negative'\n",
      " 'tested_negative' 'tested_negative' 'tested_negative' 'tested_negative'\n",
      " 'tested_negative' 'tested_negative' 'tested_negative' 'tested_negative']\n"
     ]
    },
    {
     "name": "stderr",
     "output_type": "stream",
     "text": [
      "/home/parth/anaconda3/envs/tfenv/lib/python3.8/site-packages/sklearn/utils/validation.py:993: DataConversionWarning: A column-vector y was passed when a 1d array was expected. Please change the shape of y to (n_samples, ), for example using ravel().\n",
      "  y = column_or_1d(y, warn=True)\n"
     ]
    }
   ],
   "source": [
    "from sklearn.naive_bayes import BernoulliNB\n",
    "clf = BernoulliNB()\n",
    "clf.fit(X, Y)\n",
    "ypred=clf.predict(X)\n",
    "print(ypred)"
   ]
  },
  {
   "cell_type": "code",
   "execution_count": 15,
   "id": "2081ff0a",
   "metadata": {},
   "outputs": [
    {
     "name": "stdout",
     "output_type": "stream",
     "text": [
      "Bernoulli NB accuracy :  0.6536458333333334\n"
     ]
    }
   ],
   "source": [
    "from sklearn.metrics import accuracy_score\n",
    "accuracy= accuracy_score(Y,ypred)\n",
    "print('Bernoulli NB accuracy : ', accuracy)"
   ]
  }
 ],
 "metadata": {
  "kernelspec": {
   "display_name": "Python 3 (ipykernel)",
   "language": "python",
   "name": "python3"
  },
  "language_info": {
   "codemirror_mode": {
    "name": "ipython",
    "version": 3
   },
   "file_extension": ".py",
   "mimetype": "text/x-python",
   "name": "python",
   "nbconvert_exporter": "python",
   "pygments_lexer": "ipython3",
   "version": "3.8.5"
  }
 },
 "nbformat": 4,
 "nbformat_minor": 5
}
